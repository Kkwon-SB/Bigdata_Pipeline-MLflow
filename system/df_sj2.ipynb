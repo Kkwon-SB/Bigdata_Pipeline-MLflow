{
 "cells": [
  {
   "cell_type": "code",
   "execution_count": 1,
   "id": "0d7cd394",
   "metadata": {},
   "outputs": [
    {
     "name": "stdout",
     "output_type": "stream",
     "text": [
      "Requirement already satisfied: s3fs in ./.local/lib/python3.8/site-packages (2022.8.2)\n",
      "Requirement already satisfied: aiohttp!=4.0.0a0,!=4.0.0a1 in ./.local/lib/python3.8/site-packages (from s3fs) (3.8.3)\n",
      "Requirement already satisfied: fsspec==2022.8.2 in ./.local/lib/python3.8/site-packages (from s3fs) (2022.8.2)\n",
      "Requirement already satisfied: aiobotocore~=2.4.0 in ./.local/lib/python3.8/site-packages (from s3fs) (2.4.0)\n",
      "Requirement already satisfied: wrapt>=1.10.10 in ./.local/lib/python3.8/site-packages (from aiobotocore~=2.4.0->s3fs) (1.14.1)\n",
      "Requirement already satisfied: aioitertools>=0.5.1 in ./.local/lib/python3.8/site-packages (from aiobotocore~=2.4.0->s3fs) (0.11.0)\n",
      "Requirement already satisfied: botocore<1.27.60,>=1.27.59 in ./anaconda3/envs/airflow/lib/python3.8/site-packages (from aiobotocore~=2.4.0->s3fs) (1.27.59)\n",
      "Requirement already satisfied: attrs>=17.3.0 in ./anaconda3/envs/airflow/lib/python3.8/site-packages (from aiohttp!=4.0.0a0,!=4.0.0a1->s3fs) (22.1.0)\n",
      "Requirement already satisfied: charset-normalizer<3.0,>=2.0 in ./.local/lib/python3.8/site-packages (from aiohttp!=4.0.0a0,!=4.0.0a1->s3fs) (2.1.1)\n",
      "Requirement already satisfied: yarl<2.0,>=1.0 in ./.local/lib/python3.8/site-packages (from aiohttp!=4.0.0a0,!=4.0.0a1->s3fs) (1.8.1)\n",
      "Requirement already satisfied: multidict<7.0,>=4.5 in ./.local/lib/python3.8/site-packages (from aiohttp!=4.0.0a0,!=4.0.0a1->s3fs) (6.0.2)\n",
      "Requirement already satisfied: aiosignal>=1.1.2 in ./.local/lib/python3.8/site-packages (from aiohttp!=4.0.0a0,!=4.0.0a1->s3fs) (1.2.0)\n",
      "Requirement already satisfied: async-timeout<5.0,>=4.0.0a3 in ./.local/lib/python3.8/site-packages (from aiohttp!=4.0.0a0,!=4.0.0a1->s3fs) (4.0.2)\n",
      "Requirement already satisfied: frozenlist>=1.1.1 in ./.local/lib/python3.8/site-packages (from aiohttp!=4.0.0a0,!=4.0.0a1->s3fs) (1.3.1)\n",
      "Requirement already satisfied: typing_extensions>=4.0 in ./.local/lib/python3.8/site-packages (from aioitertools>=0.5.1->aiobotocore~=2.4.0->s3fs) (4.4.0)\n",
      "Requirement already satisfied: urllib3<1.27,>=1.25.4 in ./anaconda3/envs/airflow/lib/python3.8/site-packages (from botocore<1.27.60,>=1.27.59->aiobotocore~=2.4.0->s3fs) (1.26.12)\n",
      "Requirement already satisfied: jmespath<2.0.0,>=0.7.1 in ./.local/lib/python3.8/site-packages (from botocore<1.27.60,>=1.27.59->aiobotocore~=2.4.0->s3fs) (1.0.1)\n",
      "Requirement already satisfied: python-dateutil<3.0.0,>=2.1 in ./.local/lib/python3.8/site-packages (from botocore<1.27.60,>=1.27.59->aiobotocore~=2.4.0->s3fs) (2.8.2)\n",
      "Requirement already satisfied: idna>=2.0 in ./anaconda3/envs/airflow/lib/python3.8/site-packages (from yarl<2.0,>=1.0->aiohttp!=4.0.0a0,!=4.0.0a1->s3fs) (3.4)\n",
      "Requirement already satisfied: six>=1.5 in ./anaconda3/envs/airflow/lib/python3.8/site-packages (from python-dateutil<3.0.0,>=2.1->botocore<1.27.60,>=1.27.59->aiobotocore~=2.4.0->s3fs) (1.16.0)\n"
     ]
    }
   ],
   "source": [
    "# !pip3 install s3fs --user"
   ]
  },
  {
   "cell_type": "code",
   "execution_count": 2,
   "id": "7728eae1",
   "metadata": {},
   "outputs": [],
   "source": [
    "import numpy as np\n",
    "import pandas as pd\n",
    "import matplotlib.pyplot as plt\n",
    "# import seaborn as sns\n",
    "%matplotlib inline\n",
    "# plt.style.use('seaborn-whitegrid')"
   ]
  },
  {
   "cell_type": "code",
   "execution_count": 3,
   "id": "8f204d90",
   "metadata": {},
   "outputs": [],
   "source": [
    "import findspark\n",
    "findspark.init()"
   ]
  },
  {
   "cell_type": "code",
   "execution_count": 4,
   "id": "ff14a7e9",
   "metadata": {},
   "outputs": [
    {
     "name": "stderr",
     "output_type": "stream",
     "text": [
      "Setting default log level to \"WARN\".\n",
      "To adjust logging level use sc.setLogLevel(newLevel). For SparkR, use setLogLevel(newLevel).\n",
      "2022-10-20 13:08:46,440 WARN util.NativeCodeLoader: Unable to load native-hadoop library for your platform... using builtin-java classes where applicable\n",
      "2022-10-20 13:08:49,765 WARN yarn.Client: Neither spark.yarn.jars nor spark.yarn.archive is set, falling back to uploading libraries under SPARK_HOME.\n"
     ]
    }
   ],
   "source": [
    "import pyspark\n",
    "from pyspark.sql import SparkSession\n",
    "\n",
    "spark = SparkSession.builder.getOrCreate()"
   ]
  },
  {
   "cell_type": "code",
   "execution_count": 5,
   "id": "4024536f",
   "metadata": {},
   "outputs": [
    {
     "name": "stderr",
     "output_type": "stream",
     "text": [
      "                                                                                \r"
     ]
    }
   ],
   "source": [
    "# 데이터를 hdfs에서 가지고 옴\n",
    "train_data = spark.read.csv(\"hdfs:///user/ubuntu/dataym/2009/02/02.csv\", )\n",
    "test_data = spark.read.option(\"header\",True).csv(\"hdfs:///user/data/test.csv\")"
   ]
  },
  {
   "cell_type": "code",
   "execution_count": 6,
   "id": "3d93d81d",
   "metadata": {},
   "outputs": [
    {
     "name": "stdout",
     "output_type": "stream",
     "text": [
      "+--------------------+----+--------------------+----------+---------+----------+---------+---+\n",
      "|                 _c0| _c1|                 _c2|       _c3|      _c4|       _c5|      _c6|_c7|\n",
      "+--------------------+----+--------------------+----------+---------+----------+---------+---+\n",
      "|2009-02-27 13:31:...|16.5|2009-02-27 13:31:...|-73.974938|40.762091|-74.003309|40.706195|  2|\n",
      "|2009-02-13 16:54:...| 6.7|2009-02-13 16:54:...|-73.959669|40.779718|-73.976259|40.788413|  1|\n",
      "|2009-02-22 22:48:...| 2.5|2009-02-22 22:48:...|         0|        0|-74.005433|40.726685|  2|\n",
      "|2009-02-16 07:40:...|14.5|2009-02-16 07:40:...|-73.948872|40.807601|-73.937218|40.767366|  1|\n",
      "|2009-02-27 17:39:...| 8.1|2009-02-27 17:39:...|-73.992877|40.742668|-73.983468| 40.74748|  1|\n",
      "+--------------------+----+--------------------+----------+---------+----------+---------+---+\n",
      "only showing top 5 rows\n",
      "\n"
     ]
    }
   ],
   "source": [
    "train_data.show(5)"
   ]
  },
  {
   "cell_type": "code",
   "execution_count": 7,
   "id": "ef627aa1",
   "metadata": {},
   "outputs": [
    {
     "name": "stdout",
     "output_type": "stream",
     "text": [
      "+--------------------+--------------------+-------------------+------------------+-------------------+------------------+---------------+\n",
      "|                 key|     pickup_datetime|   pickup_longitude|   pickup_latitude|  dropoff_longitude|  dropoff_latitude|passenger_count|\n",
      "+--------------------+--------------------+-------------------+------------------+-------------------+------------------+---------------+\n",
      "|2015-01-27 13:08:...|2015-01-27 13:08:...|-73.973320007324219|  40.7638053894043|-73.981430053710938| 40.74383544921875|              1|\n",
      "|2015-01-27 13:08:...|2015-01-27 13:08:...|-73.986862182617188|40.719383239746094|-73.998886108398438|40.739200592041016|              1|\n",
      "|2011-10-08 11:53:...|2011-10-08 11:53:...|         -73.982524|          40.75126|         -73.979654|         40.746139|              1|\n",
      "+--------------------+--------------------+-------------------+------------------+-------------------+------------------+---------------+\n",
      "only showing top 3 rows\n",
      "\n"
     ]
    }
   ],
   "source": [
    "test_data.show(3)"
   ]
  },
  {
   "cell_type": "code",
   "execution_count": 8,
   "id": "8405f77d",
   "metadata": {},
   "outputs": [],
   "source": [
    "# train_data가 너무 크니 10000개로 자르기\n",
    "little_train_data = train_data.limit(10000)"
   ]
  },
  {
   "cell_type": "code",
   "execution_count": 9,
   "id": "b6978502",
   "metadata": {},
   "outputs": [
    {
     "data": {
      "text/html": [
       "<div>\n",
       "<style scoped>\n",
       "    .dataframe tbody tr th:only-of-type {\n",
       "        vertical-align: middle;\n",
       "    }\n",
       "\n",
       "    .dataframe tbody tr th {\n",
       "        vertical-align: top;\n",
       "    }\n",
       "\n",
       "    .dataframe thead th {\n",
       "        text-align: right;\n",
       "    }\n",
       "</style>\n",
       "<table border=\"1\" class=\"dataframe\">\n",
       "  <thead>\n",
       "    <tr style=\"text-align: right;\">\n",
       "      <th></th>\n",
       "      <th>_c0</th>\n",
       "      <th>_c1</th>\n",
       "      <th>_c2</th>\n",
       "      <th>_c3</th>\n",
       "      <th>_c4</th>\n",
       "      <th>_c5</th>\n",
       "      <th>_c6</th>\n",
       "      <th>_c7</th>\n",
       "    </tr>\n",
       "  </thead>\n",
       "  <tbody>\n",
       "    <tr>\n",
       "      <th>0</th>\n",
       "      <td>2009-02-27 13:31:21.0000003</td>\n",
       "      <td>16.5</td>\n",
       "      <td>2009-02-27 13:31:21 UTC</td>\n",
       "      <td>-73.974938</td>\n",
       "      <td>40.762091</td>\n",
       "      <td>-74.003309</td>\n",
       "      <td>40.706195</td>\n",
       "      <td>2</td>\n",
       "    </tr>\n",
       "    <tr>\n",
       "      <th>1</th>\n",
       "      <td>2009-02-13 16:54:52.0000006</td>\n",
       "      <td>6.7</td>\n",
       "      <td>2009-02-13 16:54:52 UTC</td>\n",
       "      <td>-73.959669</td>\n",
       "      <td>40.779718</td>\n",
       "      <td>-73.976259</td>\n",
       "      <td>40.788413</td>\n",
       "      <td>1</td>\n",
       "    </tr>\n",
       "  </tbody>\n",
       "</table>\n",
       "</div>"
      ],
      "text/plain": [
       "                           _c0   _c1                      _c2         _c3  \\\n",
       "0  2009-02-27 13:31:21.0000003  16.5  2009-02-27 13:31:21 UTC  -73.974938   \n",
       "1  2009-02-13 16:54:52.0000006   6.7  2009-02-13 16:54:52 UTC  -73.959669   \n",
       "\n",
       "         _c4         _c5        _c6 _c7  \n",
       "0  40.762091  -74.003309  40.706195   2  \n",
       "1  40.779718  -73.976259  40.788413   1  "
      ]
     },
     "metadata": {},
     "output_type": "display_data"
    },
    {
     "data": {
      "text/html": [
       "<div>\n",
       "<style scoped>\n",
       "    .dataframe tbody tr th:only-of-type {\n",
       "        vertical-align: middle;\n",
       "    }\n",
       "\n",
       "    .dataframe tbody tr th {\n",
       "        vertical-align: top;\n",
       "    }\n",
       "\n",
       "    .dataframe thead th {\n",
       "        text-align: right;\n",
       "    }\n",
       "</style>\n",
       "<table border=\"1\" class=\"dataframe\">\n",
       "  <thead>\n",
       "    <tr style=\"text-align: right;\">\n",
       "      <th></th>\n",
       "      <th>key</th>\n",
       "      <th>pickup_datetime</th>\n",
       "      <th>pickup_longitude</th>\n",
       "      <th>pickup_latitude</th>\n",
       "      <th>dropoff_longitude</th>\n",
       "      <th>dropoff_latitude</th>\n",
       "      <th>passenger_count</th>\n",
       "    </tr>\n",
       "  </thead>\n",
       "  <tbody>\n",
       "    <tr>\n",
       "      <th>0</th>\n",
       "      <td>2015-01-27 13:08:24.0000002</td>\n",
       "      <td>2015-01-27 13:08:24 UTC</td>\n",
       "      <td>-73.973320007324219</td>\n",
       "      <td>40.7638053894043</td>\n",
       "      <td>-73.981430053710938</td>\n",
       "      <td>40.74383544921875</td>\n",
       "      <td>1</td>\n",
       "    </tr>\n",
       "    <tr>\n",
       "      <th>1</th>\n",
       "      <td>2015-01-27 13:08:24.0000003</td>\n",
       "      <td>2015-01-27 13:08:24 UTC</td>\n",
       "      <td>-73.986862182617188</td>\n",
       "      <td>40.719383239746094</td>\n",
       "      <td>-73.998886108398438</td>\n",
       "      <td>40.739200592041016</td>\n",
       "      <td>1</td>\n",
       "    </tr>\n",
       "  </tbody>\n",
       "</table>\n",
       "</div>"
      ],
      "text/plain": [
       "                           key          pickup_datetime     pickup_longitude  \\\n",
       "0  2015-01-27 13:08:24.0000002  2015-01-27 13:08:24 UTC  -73.973320007324219   \n",
       "1  2015-01-27 13:08:24.0000003  2015-01-27 13:08:24 UTC  -73.986862182617188   \n",
       "\n",
       "      pickup_latitude    dropoff_longitude    dropoff_latitude passenger_count  \n",
       "0    40.7638053894043  -73.981430053710938   40.74383544921875               1  \n",
       "1  40.719383239746094  -73.998886108398438  40.739200592041016               1  "
      ]
     },
     "execution_count": 9,
     "metadata": {},
     "output_type": "execute_result"
    }
   ],
   "source": [
    "# pyspark.sql.dataframe.DataFrame to Pandas df\n",
    "df_train = little_train_data.toPandas()\n",
    "df_test = test_data.toPandas()\n",
    "display(df_train.head(2))\n",
    "df_test.head(2)"
   ]
  },
  {
   "cell_type": "code",
   "execution_count": 10,
   "id": "4c98d421",
   "metadata": {},
   "outputs": [],
   "source": [
    "train_column_list =  [\"key\",\"fare_amount\",\"pickup_datetime\",\"pickup_longitude\",\"pickup_latitude\",\"dropoff_longitude\",\"dropoff_latitude\",\"passenger_count\"]\n",
    "test_column_list = [\"key\",\"pickup_datetime\",\"pickup_longitude\",\"pickup_latitude\",\"dropoff_longitude\",\"dropoff_latitude\",\"passenger_count\"]"
   ]
  },
  {
   "cell_type": "code",
   "execution_count": 11,
   "id": "1133328c",
   "metadata": {},
   "outputs": [],
   "source": [
    "df_train.columns = train_column_list\n",
    "df_test.columns = test_column_list"
   ]
  },
  {
   "cell_type": "code",
   "execution_count": 12,
   "id": "fdec2c9c",
   "metadata": {},
   "outputs": [
    {
     "data": {
      "text/html": [
       "<div>\n",
       "<style scoped>\n",
       "    .dataframe tbody tr th:only-of-type {\n",
       "        vertical-align: middle;\n",
       "    }\n",
       "\n",
       "    .dataframe tbody tr th {\n",
       "        vertical-align: top;\n",
       "    }\n",
       "\n",
       "    .dataframe thead th {\n",
       "        text-align: right;\n",
       "    }\n",
       "</style>\n",
       "<table border=\"1\" class=\"dataframe\">\n",
       "  <thead>\n",
       "    <tr style=\"text-align: right;\">\n",
       "      <th></th>\n",
       "      <th>key</th>\n",
       "      <th>fare_amount</th>\n",
       "      <th>pickup_datetime</th>\n",
       "      <th>pickup_longitude</th>\n",
       "      <th>pickup_latitude</th>\n",
       "      <th>dropoff_longitude</th>\n",
       "      <th>dropoff_latitude</th>\n",
       "      <th>passenger_count</th>\n",
       "    </tr>\n",
       "  </thead>\n",
       "  <tbody>\n",
       "    <tr>\n",
       "      <th>0</th>\n",
       "      <td>2009-02-27 13:31:21.0000003</td>\n",
       "      <td>16.5</td>\n",
       "      <td>2009-02-27 13:31:21 UTC</td>\n",
       "      <td>-73.974938</td>\n",
       "      <td>40.762091</td>\n",
       "      <td>-74.003309</td>\n",
       "      <td>40.706195</td>\n",
       "      <td>2</td>\n",
       "    </tr>\n",
       "    <tr>\n",
       "      <th>1</th>\n",
       "      <td>2009-02-13 16:54:52.0000006</td>\n",
       "      <td>6.7</td>\n",
       "      <td>2009-02-13 16:54:52 UTC</td>\n",
       "      <td>-73.959669</td>\n",
       "      <td>40.779718</td>\n",
       "      <td>-73.976259</td>\n",
       "      <td>40.788413</td>\n",
       "      <td>1</td>\n",
       "    </tr>\n",
       "  </tbody>\n",
       "</table>\n",
       "</div>"
      ],
      "text/plain": [
       "                           key fare_amount          pickup_datetime  \\\n",
       "0  2009-02-27 13:31:21.0000003        16.5  2009-02-27 13:31:21 UTC   \n",
       "1  2009-02-13 16:54:52.0000006         6.7  2009-02-13 16:54:52 UTC   \n",
       "\n",
       "  pickup_longitude pickup_latitude dropoff_longitude dropoff_latitude  \\\n",
       "0       -73.974938       40.762091        -74.003309        40.706195   \n",
       "1       -73.959669       40.779718        -73.976259        40.788413   \n",
       "\n",
       "  passenger_count  \n",
       "0               2  \n",
       "1               1  "
      ]
     },
     "metadata": {},
     "output_type": "display_data"
    },
    {
     "data": {
      "text/html": [
       "<div>\n",
       "<style scoped>\n",
       "    .dataframe tbody tr th:only-of-type {\n",
       "        vertical-align: middle;\n",
       "    }\n",
       "\n",
       "    .dataframe tbody tr th {\n",
       "        vertical-align: top;\n",
       "    }\n",
       "\n",
       "    .dataframe thead th {\n",
       "        text-align: right;\n",
       "    }\n",
       "</style>\n",
       "<table border=\"1\" class=\"dataframe\">\n",
       "  <thead>\n",
       "    <tr style=\"text-align: right;\">\n",
       "      <th></th>\n",
       "      <th>key</th>\n",
       "      <th>pickup_datetime</th>\n",
       "      <th>pickup_longitude</th>\n",
       "      <th>pickup_latitude</th>\n",
       "      <th>dropoff_longitude</th>\n",
       "      <th>dropoff_latitude</th>\n",
       "      <th>passenger_count</th>\n",
       "    </tr>\n",
       "  </thead>\n",
       "  <tbody>\n",
       "    <tr>\n",
       "      <th>0</th>\n",
       "      <td>2015-01-27 13:08:24.0000002</td>\n",
       "      <td>2015-01-27 13:08:24 UTC</td>\n",
       "      <td>-73.973320007324219</td>\n",
       "      <td>40.7638053894043</td>\n",
       "      <td>-73.981430053710938</td>\n",
       "      <td>40.74383544921875</td>\n",
       "      <td>1</td>\n",
       "    </tr>\n",
       "    <tr>\n",
       "      <th>1</th>\n",
       "      <td>2015-01-27 13:08:24.0000003</td>\n",
       "      <td>2015-01-27 13:08:24 UTC</td>\n",
       "      <td>-73.986862182617188</td>\n",
       "      <td>40.719383239746094</td>\n",
       "      <td>-73.998886108398438</td>\n",
       "      <td>40.739200592041016</td>\n",
       "      <td>1</td>\n",
       "    </tr>\n",
       "  </tbody>\n",
       "</table>\n",
       "</div>"
      ],
      "text/plain": [
       "                           key          pickup_datetime     pickup_longitude  \\\n",
       "0  2015-01-27 13:08:24.0000002  2015-01-27 13:08:24 UTC  -73.973320007324219   \n",
       "1  2015-01-27 13:08:24.0000003  2015-01-27 13:08:24 UTC  -73.986862182617188   \n",
       "\n",
       "      pickup_latitude    dropoff_longitude    dropoff_latitude passenger_count  \n",
       "0    40.7638053894043  -73.981430053710938   40.74383544921875               1  \n",
       "1  40.719383239746094  -73.998886108398438  40.739200592041016               1  "
      ]
     },
     "execution_count": 12,
     "metadata": {},
     "output_type": "execute_result"
    }
   ],
   "source": [
    "display(df_train.head(2))\n",
    "df_test.head(2)"
   ]
  },
  {
   "cell_type": "code",
   "execution_count": 13,
   "id": "f7f67adc",
   "metadata": {},
   "outputs": [
    {
     "name": "stdout",
     "output_type": "stream",
     "text": [
      "<class 'pandas.core.frame.DataFrame'>\n",
      "RangeIndex: 10000 entries, 0 to 9999\n",
      "Data columns (total 8 columns):\n",
      " #   Column             Non-Null Count  Dtype \n",
      "---  ------             --------------  ----- \n",
      " 0   key                10000 non-null  object\n",
      " 1   fare_amount        10000 non-null  object\n",
      " 2   pickup_datetime    10000 non-null  object\n",
      " 3   pickup_longitude   10000 non-null  object\n",
      " 4   pickup_latitude    10000 non-null  object\n",
      " 5   dropoff_longitude  10000 non-null  object\n",
      " 6   dropoff_latitude   10000 non-null  object\n",
      " 7   passenger_count    10000 non-null  object\n",
      "dtypes: object(8)\n",
      "memory usage: 625.1+ KB\n"
     ]
    }
   ],
   "source": [
    "df_train.info()"
   ]
  },
  {
   "cell_type": "code",
   "execution_count": 14,
   "id": "a5bced36",
   "metadata": {},
   "outputs": [],
   "source": [
    "# df_train['key'] = pd.to_datetime(df_train['key'])\n",
    "df_train['pickup_datetime'] = pd.to_datetime(df_train['pickup_datetime'])\n",
    "# df_test['key'] = pd.to_datetime(df_test['key'])\n",
    "df_test['pickup_datetime']  = pd.to_datetime(df_test['pickup_datetime'])"
   ]
  },
  {
   "cell_type": "code",
   "execution_count": 15,
   "id": "50b9a553",
   "metadata": {},
   "outputs": [],
   "source": [
    "# Dtype이 object를 float,int로 변경\n",
    "df_train = df_train.astype({'fare_amount':'float',\n",
    "              'pickup_longitude':'float',\n",
    "              'pickup_latitude':'float',\n",
    "              'dropoff_longitude':'float',\n",
    "              'dropoff_latitude':'float',\n",
    "              'passenger_count':'int'},)\n",
    "df_test = df_test.astype({'pickup_longitude':'float',\n",
    "              'pickup_latitude':'float',\n",
    "              'dropoff_longitude':'float',\n",
    "              'dropoff_latitude':'float',\n",
    "              'passenger_count':'int'},)"
   ]
  },
  {
   "cell_type": "code",
   "execution_count": 16,
   "id": "9b75bc10",
   "metadata": {},
   "outputs": [
    {
     "name": "stdout",
     "output_type": "stream",
     "text": [
      "<class 'pandas.core.frame.DataFrame'>\n",
      "RangeIndex: 10000 entries, 0 to 9999\n",
      "Data columns (total 8 columns):\n",
      " #   Column             Non-Null Count  Dtype              \n",
      "---  ------             --------------  -----              \n",
      " 0   key                10000 non-null  object             \n",
      " 1   fare_amount        10000 non-null  float64            \n",
      " 2   pickup_datetime    10000 non-null  datetime64[ns, UTC]\n",
      " 3   pickup_longitude   10000 non-null  float64            \n",
      " 4   pickup_latitude    10000 non-null  float64            \n",
      " 5   dropoff_longitude  10000 non-null  float64            \n",
      " 6   dropoff_latitude   10000 non-null  float64            \n",
      " 7   passenger_count    10000 non-null  int64              \n",
      "dtypes: datetime64[ns, UTC](1), float64(5), int64(1), object(1)\n",
      "memory usage: 625.1+ KB\n"
     ]
    }
   ],
   "source": [
    "df_train.info()"
   ]
  },
  {
   "cell_type": "code",
   "execution_count": 17,
   "id": "a1bfaf57",
   "metadata": {},
   "outputs": [
    {
     "data": {
      "text/html": [
       "<div>\n",
       "<style scoped>\n",
       "    .dataframe tbody tr th:only-of-type {\n",
       "        vertical-align: middle;\n",
       "    }\n",
       "\n",
       "    .dataframe tbody tr th {\n",
       "        vertical-align: top;\n",
       "    }\n",
       "\n",
       "    .dataframe thead th {\n",
       "        text-align: right;\n",
       "    }\n",
       "</style>\n",
       "<table border=\"1\" class=\"dataframe\">\n",
       "  <thead>\n",
       "    <tr style=\"text-align: right;\">\n",
       "      <th></th>\n",
       "      <th>key</th>\n",
       "      <th>pickup_datetime</th>\n",
       "      <th>pickup_longitude</th>\n",
       "      <th>pickup_latitude</th>\n",
       "      <th>dropoff_longitude</th>\n",
       "      <th>dropoff_latitude</th>\n",
       "      <th>passenger_count</th>\n",
       "    </tr>\n",
       "  </thead>\n",
       "  <tbody>\n",
       "    <tr>\n",
       "      <th>0</th>\n",
       "      <td>2015-01-27 13:08:24.0000002</td>\n",
       "      <td>2015-01-27 13:08:24+00:00</td>\n",
       "      <td>-73.973320</td>\n",
       "      <td>40.763805</td>\n",
       "      <td>-73.981430</td>\n",
       "      <td>40.743835</td>\n",
       "      <td>1</td>\n",
       "    </tr>\n",
       "    <tr>\n",
       "      <th>1</th>\n",
       "      <td>2015-01-27 13:08:24.0000003</td>\n",
       "      <td>2015-01-27 13:08:24+00:00</td>\n",
       "      <td>-73.986862</td>\n",
       "      <td>40.719383</td>\n",
       "      <td>-73.998886</td>\n",
       "      <td>40.739201</td>\n",
       "      <td>1</td>\n",
       "    </tr>\n",
       "  </tbody>\n",
       "</table>\n",
       "</div>"
      ],
      "text/plain": [
       "                           key           pickup_datetime  pickup_longitude  \\\n",
       "0  2015-01-27 13:08:24.0000002 2015-01-27 13:08:24+00:00        -73.973320   \n",
       "1  2015-01-27 13:08:24.0000003 2015-01-27 13:08:24+00:00        -73.986862   \n",
       "\n",
       "   pickup_latitude  dropoff_longitude  dropoff_latitude  passenger_count  \n",
       "0        40.763805         -73.981430         40.743835                1  \n",
       "1        40.719383         -73.998886         40.739201                1  "
      ]
     },
     "execution_count": 17,
     "metadata": {},
     "output_type": "execute_result"
    }
   ],
   "source": [
    "df_test.head(2)"
   ]
  },
  {
   "cell_type": "code",
   "execution_count": 18,
   "id": "a3878e70",
   "metadata": {},
   "outputs": [
    {
     "data": {
      "text/html": [
       "<div>\n",
       "<style scoped>\n",
       "    .dataframe tbody tr th:only-of-type {\n",
       "        vertical-align: middle;\n",
       "    }\n",
       "\n",
       "    .dataframe tbody tr th {\n",
       "        vertical-align: top;\n",
       "    }\n",
       "\n",
       "    .dataframe thead th {\n",
       "        text-align: right;\n",
       "    }\n",
       "</style>\n",
       "<table border=\"1\" class=\"dataframe\">\n",
       "  <thead>\n",
       "    <tr style=\"text-align: right;\">\n",
       "      <th></th>\n",
       "      <th>key</th>\n",
       "      <th>fare_amount</th>\n",
       "      <th>pickup_datetime</th>\n",
       "      <th>pickup_longitude</th>\n",
       "      <th>pickup_latitude</th>\n",
       "      <th>dropoff_longitude</th>\n",
       "      <th>dropoff_latitude</th>\n",
       "      <th>passenger_count</th>\n",
       "    </tr>\n",
       "  </thead>\n",
       "  <tbody>\n",
       "    <tr>\n",
       "      <th>0</th>\n",
       "      <td>2009-02-27 13:31:21.0000003</td>\n",
       "      <td>16.5</td>\n",
       "      <td>2009-02-27 13:31:21+00:00</td>\n",
       "      <td>-73.974938</td>\n",
       "      <td>40.762091</td>\n",
       "      <td>-74.003309</td>\n",
       "      <td>40.706195</td>\n",
       "      <td>2</td>\n",
       "    </tr>\n",
       "    <tr>\n",
       "      <th>1</th>\n",
       "      <td>2009-02-13 16:54:52.0000006</td>\n",
       "      <td>6.7</td>\n",
       "      <td>2009-02-13 16:54:52+00:00</td>\n",
       "      <td>-73.959669</td>\n",
       "      <td>40.779718</td>\n",
       "      <td>-73.976259</td>\n",
       "      <td>40.788413</td>\n",
       "      <td>1</td>\n",
       "    </tr>\n",
       "  </tbody>\n",
       "</table>\n",
       "</div>"
      ],
      "text/plain": [
       "                           key  fare_amount           pickup_datetime  \\\n",
       "0  2009-02-27 13:31:21.0000003         16.5 2009-02-27 13:31:21+00:00   \n",
       "1  2009-02-13 16:54:52.0000006          6.7 2009-02-13 16:54:52+00:00   \n",
       "\n",
       "   pickup_longitude  pickup_latitude  dropoff_longitude  dropoff_latitude  \\\n",
       "0        -73.974938        40.762091         -74.003309         40.706195   \n",
       "1        -73.959669        40.779718         -73.976259         40.788413   \n",
       "\n",
       "   passenger_count  \n",
       "0                2  \n",
       "1                1  "
      ]
     },
     "execution_count": 18,
     "metadata": {},
     "output_type": "execute_result"
    }
   ],
   "source": [
    "df_train.head(2)"
   ]
  },
  {
   "cell_type": "code",
   "execution_count": 19,
   "id": "2aaee86a",
   "metadata": {},
   "outputs": [],
   "source": [
    "# pickup_datetime에서 UTC 빼는 방법\n",
    "df_train['pickup_datetime'] = pd.to_datetime(df_train.pickup_datetime).dt.tz_localize(None)\n",
    "df_test['pickup_datetime'] = pd.to_datetime(df_test.pickup_datetime).dt.tz_localize(None)"
   ]
  },
  {
   "cell_type": "code",
   "execution_count": 20,
   "id": "48750cd8",
   "metadata": {},
   "outputs": [
    {
     "data": {
      "text/html": [
       "<div>\n",
       "<style scoped>\n",
       "    .dataframe tbody tr th:only-of-type {\n",
       "        vertical-align: middle;\n",
       "    }\n",
       "\n",
       "    .dataframe tbody tr th {\n",
       "        vertical-align: top;\n",
       "    }\n",
       "\n",
       "    .dataframe thead th {\n",
       "        text-align: right;\n",
       "    }\n",
       "</style>\n",
       "<table border=\"1\" class=\"dataframe\">\n",
       "  <thead>\n",
       "    <tr style=\"text-align: right;\">\n",
       "      <th></th>\n",
       "      <th>key</th>\n",
       "      <th>fare_amount</th>\n",
       "      <th>pickup_datetime</th>\n",
       "      <th>pickup_longitude</th>\n",
       "      <th>pickup_latitude</th>\n",
       "      <th>dropoff_longitude</th>\n",
       "      <th>dropoff_latitude</th>\n",
       "      <th>passenger_count</th>\n",
       "    </tr>\n",
       "  </thead>\n",
       "  <tbody>\n",
       "    <tr>\n",
       "      <th>0</th>\n",
       "      <td>2009-02-27 13:31:21.0000003</td>\n",
       "      <td>16.5</td>\n",
       "      <td>2009-02-27 13:31:21</td>\n",
       "      <td>-73.974938</td>\n",
       "      <td>40.762091</td>\n",
       "      <td>-74.003309</td>\n",
       "      <td>40.706195</td>\n",
       "      <td>2</td>\n",
       "    </tr>\n",
       "    <tr>\n",
       "      <th>1</th>\n",
       "      <td>2009-02-13 16:54:52.0000006</td>\n",
       "      <td>6.7</td>\n",
       "      <td>2009-02-13 16:54:52</td>\n",
       "      <td>-73.959669</td>\n",
       "      <td>40.779718</td>\n",
       "      <td>-73.976259</td>\n",
       "      <td>40.788413</td>\n",
       "      <td>1</td>\n",
       "    </tr>\n",
       "  </tbody>\n",
       "</table>\n",
       "</div>"
      ],
      "text/plain": [
       "                           key  fare_amount     pickup_datetime  \\\n",
       "0  2009-02-27 13:31:21.0000003         16.5 2009-02-27 13:31:21   \n",
       "1  2009-02-13 16:54:52.0000006          6.7 2009-02-13 16:54:52   \n",
       "\n",
       "   pickup_longitude  pickup_latitude  dropoff_longitude  dropoff_latitude  \\\n",
       "0        -73.974938        40.762091         -74.003309         40.706195   \n",
       "1        -73.959669        40.779718         -73.976259         40.788413   \n",
       "\n",
       "   passenger_count  \n",
       "0                2  \n",
       "1                1  "
      ]
     },
     "execution_count": 20,
     "metadata": {},
     "output_type": "execute_result"
    }
   ],
   "source": [
    "df_train.head(2)"
   ]
  },
  {
   "cell_type": "code",
   "execution_count": 21,
   "id": "bacbc2b8",
   "metadata": {},
   "outputs": [
    {
     "name": "stdout",
     "output_type": "stream",
     "text": [
      "<class 'pandas.core.frame.DataFrame'>\n",
      "RangeIndex: 10000 entries, 0 to 9999\n",
      "Data columns (total 8 columns):\n",
      " #   Column             Non-Null Count  Dtype         \n",
      "---  ------             --------------  -----         \n",
      " 0   key                10000 non-null  object        \n",
      " 1   fare_amount        10000 non-null  float64       \n",
      " 2   pickup_datetime    10000 non-null  datetime64[ns]\n",
      " 3   pickup_longitude   10000 non-null  float64       \n",
      " 4   pickup_latitude    10000 non-null  float64       \n",
      " 5   dropoff_longitude  10000 non-null  float64       \n",
      " 6   dropoff_latitude   10000 non-null  float64       \n",
      " 7   passenger_count    10000 non-null  int64         \n",
      "dtypes: datetime64[ns](1), float64(5), int64(1), object(1)\n",
      "memory usage: 625.1+ KB\n"
     ]
    }
   ],
   "source": [
    "df_train.info()"
   ]
  },
  {
   "cell_type": "code",
   "execution_count": 22,
   "id": "2b0a2a96",
   "metadata": {},
   "outputs": [
    {
     "data": {
      "text/html": [
       "<div>\n",
       "<style scoped>\n",
       "    .dataframe tbody tr th:only-of-type {\n",
       "        vertical-align: middle;\n",
       "    }\n",
       "\n",
       "    .dataframe tbody tr th {\n",
       "        vertical-align: top;\n",
       "    }\n",
       "\n",
       "    .dataframe thead th {\n",
       "        text-align: right;\n",
       "    }\n",
       "</style>\n",
       "<table border=\"1\" class=\"dataframe\">\n",
       "  <thead>\n",
       "    <tr style=\"text-align: right;\">\n",
       "      <th></th>\n",
       "      <th>fare_amount</th>\n",
       "      <th>pickup_longitude</th>\n",
       "      <th>pickup_latitude</th>\n",
       "      <th>dropoff_longitude</th>\n",
       "      <th>dropoff_latitude</th>\n",
       "      <th>passenger_count</th>\n",
       "    </tr>\n",
       "  </thead>\n",
       "  <tbody>\n",
       "    <tr>\n",
       "      <th>count</th>\n",
       "      <td>10000.000000</td>\n",
       "      <td>10000.000000</td>\n",
       "      <td>10000.000000</td>\n",
       "      <td>10000.000000</td>\n",
       "      <td>10000.000000</td>\n",
       "      <td>10000.000000</td>\n",
       "    </tr>\n",
       "    <tr>\n",
       "      <th>mean</th>\n",
       "      <td>9.766464</td>\n",
       "      <td>-72.836445</td>\n",
       "      <td>40.124690</td>\n",
       "      <td>-72.857297</td>\n",
       "      <td>40.137205</td>\n",
       "      <td>1.698500</td>\n",
       "    </tr>\n",
       "    <tr>\n",
       "      <th>std</th>\n",
       "      <td>7.641671</td>\n",
       "      <td>9.109876</td>\n",
       "      <td>5.018559</td>\n",
       "      <td>9.021908</td>\n",
       "      <td>4.970237</td>\n",
       "      <td>1.283496</td>\n",
       "    </tr>\n",
       "    <tr>\n",
       "      <th>min</th>\n",
       "      <td>2.500000</td>\n",
       "      <td>-78.725186</td>\n",
       "      <td>0.000000</td>\n",
       "      <td>-78.725186</td>\n",
       "      <td>0.000000</td>\n",
       "      <td>1.000000</td>\n",
       "    </tr>\n",
       "    <tr>\n",
       "      <th>25%</th>\n",
       "      <td>5.700000</td>\n",
       "      <td>-73.991737</td>\n",
       "      <td>40.735857</td>\n",
       "      <td>-73.991061</td>\n",
       "      <td>40.734826</td>\n",
       "      <td>1.000000</td>\n",
       "    </tr>\n",
       "    <tr>\n",
       "      <th>50%</th>\n",
       "      <td>7.700000</td>\n",
       "      <td>-73.981638</td>\n",
       "      <td>40.753253</td>\n",
       "      <td>-73.980051</td>\n",
       "      <td>40.753724</td>\n",
       "      <td>1.000000</td>\n",
       "    </tr>\n",
       "    <tr>\n",
       "      <th>75%</th>\n",
       "      <td>10.900000</td>\n",
       "      <td>-73.968195</td>\n",
       "      <td>40.768140</td>\n",
       "      <td>-73.964204</td>\n",
       "      <td>40.769034</td>\n",
       "      <td>2.000000</td>\n",
       "    </tr>\n",
       "    <tr>\n",
       "      <th>max</th>\n",
       "      <td>146.900000</td>\n",
       "      <td>0.000000</td>\n",
       "      <td>41.366138</td>\n",
       "      <td>0.000000</td>\n",
       "      <td>41.366138</td>\n",
       "      <td>6.000000</td>\n",
       "    </tr>\n",
       "  </tbody>\n",
       "</table>\n",
       "</div>"
      ],
      "text/plain": [
       "        fare_amount  pickup_longitude  pickup_latitude  dropoff_longitude  \\\n",
       "count  10000.000000      10000.000000     10000.000000       10000.000000   \n",
       "mean       9.766464        -72.836445        40.124690         -72.857297   \n",
       "std        7.641671          9.109876         5.018559           9.021908   \n",
       "min        2.500000        -78.725186         0.000000         -78.725186   \n",
       "25%        5.700000        -73.991737        40.735857         -73.991061   \n",
       "50%        7.700000        -73.981638        40.753253         -73.980051   \n",
       "75%       10.900000        -73.968195        40.768140         -73.964204   \n",
       "max      146.900000          0.000000        41.366138           0.000000   \n",
       "\n",
       "       dropoff_latitude  passenger_count  \n",
       "count      10000.000000     10000.000000  \n",
       "mean          40.137205         1.698500  \n",
       "std            4.970237         1.283496  \n",
       "min            0.000000         1.000000  \n",
       "25%           40.734826         1.000000  \n",
       "50%           40.753724         1.000000  \n",
       "75%           40.769034         2.000000  \n",
       "max           41.366138         6.000000  "
      ]
     },
     "execution_count": 22,
     "metadata": {},
     "output_type": "execute_result"
    }
   ],
   "source": [
    "df_train.describe()"
   ]
  },
  {
   "cell_type": "code",
   "execution_count": 23,
   "id": "a68a9108",
   "metadata": {},
   "outputs": [
    {
     "name": "stdout",
     "output_type": "stream",
     "text": [
      "Old size: 10000\n",
      "New size: 10000\n"
     ]
    }
   ],
   "source": [
    "print('Old size: %d' % len(df_train))\n",
    "df_train = df_train[df_train.fare_amount>=0]\n",
    "print('New size: %d' % len(df_train))"
   ]
  },
  {
   "cell_type": "code",
   "execution_count": 24,
   "id": "0969fa68",
   "metadata": {},
   "outputs": [
    {
     "data": {
      "image/png": "[encoded data removed]",
      "text/plain": [
       "<Figure size 1400x300 with 1 Axes>"
      ]
     },
     "metadata": {},
     "output_type": "display_data"
    }
   ],
   "source": [
    "df_train[df_train.fare_amount<100].fare_amount.hist(bins=100, figsize=(14,3))\n",
    "plt.xlabel('fare $USD')\n",
    "plt.title('Histogram');"
   ]
  },
  {
   "cell_type": "code",
   "execution_count": 25,
   "id": "330b3309",
   "metadata": {},
   "outputs": [
    {
     "name": "stdout",
     "output_type": "stream",
     "text": [
      "key                  0\n",
      "fare_amount          0\n",
      "pickup_datetime      0\n",
      "pickup_longitude     0\n",
      "pickup_latitude      0\n",
      "dropoff_longitude    0\n",
      "dropoff_latitude     0\n",
      "passenger_count      0\n",
      "dtype: int64\n"
     ]
    }
   ],
   "source": [
    "print(df_train.isnull().sum())"
   ]
  },
  {
   "cell_type": "code",
   "execution_count": 26,
   "id": "7ae07c2b",
   "metadata": {},
   "outputs": [
    {
     "name": "stdout",
     "output_type": "stream",
     "text": [
      "Old size: 10000\n",
      "New size: 10000\n"
     ]
    }
   ],
   "source": [
    "print('Old size: %d' % len(df_train))\n",
    "df_train = df_train.dropna(how = 'any', axis = 'rows')\n",
    "print('New size: %d' % len(df_train))"
   ]
  },
  {
   "cell_type": "code",
   "execution_count": 27,
   "id": "22ca4b70",
   "metadata": {},
   "outputs": [],
   "source": [
    "# df_test =  pd.read_csv('../input/test.csv')\n",
    "# df_test.head(5)"
   ]
  },
  {
   "cell_type": "code",
   "execution_count": 28,
   "id": "1ea57ad7",
   "metadata": {},
   "outputs": [
    {
     "data": {
      "text/html": [
       "<div>\n",
       "<style scoped>\n",
       "    .dataframe tbody tr th:only-of-type {\n",
       "        vertical-align: middle;\n",
       "    }\n",
       "\n",
       "    .dataframe tbody tr th {\n",
       "        vertical-align: top;\n",
       "    }\n",
       "\n",
       "    .dataframe thead th {\n",
       "        text-align: right;\n",
       "    }\n",
       "</style>\n",
       "<table border=\"1\" class=\"dataframe\">\n",
       "  <thead>\n",
       "    <tr style=\"text-align: right;\">\n",
       "      <th></th>\n",
       "      <th>pickup_longitude</th>\n",
       "      <th>pickup_latitude</th>\n",
       "      <th>dropoff_longitude</th>\n",
       "      <th>dropoff_latitude</th>\n",
       "      <th>passenger_count</th>\n",
       "    </tr>\n",
       "  </thead>\n",
       "  <tbody>\n",
       "    <tr>\n",
       "      <th>count</th>\n",
       "      <td>9914.000000</td>\n",
       "      <td>9914.000000</td>\n",
       "      <td>9914.000000</td>\n",
       "      <td>9914.000000</td>\n",
       "      <td>9914.000000</td>\n",
       "    </tr>\n",
       "    <tr>\n",
       "      <th>mean</th>\n",
       "      <td>-73.974722</td>\n",
       "      <td>40.751041</td>\n",
       "      <td>-73.973657</td>\n",
       "      <td>40.751743</td>\n",
       "      <td>1.671273</td>\n",
       "    </tr>\n",
       "    <tr>\n",
       "      <th>std</th>\n",
       "      <td>0.042774</td>\n",
       "      <td>0.033541</td>\n",
       "      <td>0.039072</td>\n",
       "      <td>0.035435</td>\n",
       "      <td>1.278747</td>\n",
       "    </tr>\n",
       "    <tr>\n",
       "      <th>min</th>\n",
       "      <td>-74.252193</td>\n",
       "      <td>40.573143</td>\n",
       "      <td>-74.263242</td>\n",
       "      <td>40.568973</td>\n",
       "      <td>1.000000</td>\n",
       "    </tr>\n",
       "    <tr>\n",
       "      <th>25%</th>\n",
       "      <td>-73.992501</td>\n",
       "      <td>40.736125</td>\n",
       "      <td>-73.991247</td>\n",
       "      <td>40.735254</td>\n",
       "      <td>1.000000</td>\n",
       "    </tr>\n",
       "    <tr>\n",
       "      <th>50%</th>\n",
       "      <td>-73.982326</td>\n",
       "      <td>40.753051</td>\n",
       "      <td>-73.980015</td>\n",
       "      <td>40.754065</td>\n",
       "      <td>1.000000</td>\n",
       "    </tr>\n",
       "    <tr>\n",
       "      <th>75%</th>\n",
       "      <td>-73.968013</td>\n",
       "      <td>40.767113</td>\n",
       "      <td>-73.964059</td>\n",
       "      <td>40.768757</td>\n",
       "      <td>2.000000</td>\n",
       "    </tr>\n",
       "    <tr>\n",
       "      <th>max</th>\n",
       "      <td>-72.986532</td>\n",
       "      <td>41.709555</td>\n",
       "      <td>-72.990963</td>\n",
       "      <td>41.696683</td>\n",
       "      <td>6.000000</td>\n",
       "    </tr>\n",
       "  </tbody>\n",
       "</table>\n",
       "</div>"
      ],
      "text/plain": [
       "       pickup_longitude  pickup_latitude  dropoff_longitude  dropoff_latitude  \\\n",
       "count       9914.000000      9914.000000        9914.000000       9914.000000   \n",
       "mean         -73.974722        40.751041         -73.973657         40.751743   \n",
       "std            0.042774         0.033541           0.039072          0.035435   \n",
       "min          -74.252193        40.573143         -74.263242         40.568973   \n",
       "25%          -73.992501        40.736125         -73.991247         40.735254   \n",
       "50%          -73.982326        40.753051         -73.980015         40.754065   \n",
       "75%          -73.968013        40.767113         -73.964059         40.768757   \n",
       "max          -72.986532        41.709555         -72.990963         41.696683   \n",
       "\n",
       "       passenger_count  \n",
       "count      9914.000000  \n",
       "mean          1.671273  \n",
       "std           1.278747  \n",
       "min           1.000000  \n",
       "25%           1.000000  \n",
       "50%           1.000000  \n",
       "75%           2.000000  \n",
       "max           6.000000  "
      ]
     },
     "execution_count": 28,
     "metadata": {},
     "output_type": "execute_result"
    }
   ],
   "source": [
    "df_test.describe()"
   ]
  },
  {
   "cell_type": "markdown",
   "id": "13830657",
   "metadata": {},
   "source": [
    "### Location data"
   ]
  },
  {
   "cell_type": "code",
   "execution_count": 29,
   "id": "0625a8d6",
   "metadata": {},
   "outputs": [
    {
     "data": {
      "text/plain": [
       "(-74.263242, -72.986532)"
      ]
     },
     "execution_count": 29,
     "metadata": {},
     "output_type": "execute_result"
    }
   ],
   "source": [
    "# minimum and maximum longitude test set\n",
    "min(df_test.pickup_longitude.min(), df_test.dropoff_longitude.min()), \\\n",
    "max(df_test.pickup_longitude.max(), df_test.dropoff_longitude.max())"
   ]
  },
  {
   "cell_type": "code",
   "execution_count": 30,
   "id": "7aa7f79d",
   "metadata": {},
   "outputs": [
    {
     "data": {
      "text/plain": [
       "(40.568973, 41.709555)"
      ]
     },
     "execution_count": 30,
     "metadata": {},
     "output_type": "execute_result"
    }
   ],
   "source": [
    "# minimum and maximum latitude test\n",
    "min(df_test.pickup_latitude.min(), df_test.dropoff_latitude.min()), \\\n",
    "max(df_test.pickup_latitude.max(), df_test.dropoff_latitude.max())"
   ]
  },
  {
   "cell_type": "code",
   "execution_count": 31,
   "id": "9f330946",
   "metadata": {},
   "outputs": [],
   "source": [
    "# this function will also be used with the test set below\n",
    "def select_within_boundingbox(df, BB):\n",
    "    return (df.pickup_longitude >= BB[0]) & (df.pickup_longitude <= BB[1]) & \\\n",
    "           (df.pickup_latitude >= BB[2]) & (df.pickup_latitude <= BB[3]) & \\\n",
    "           (df.dropoff_longitude >= BB[0]) & (df.dropoff_longitude <= BB[1]) & \\\n",
    "           (df.dropoff_latitude >= BB[2]) & (df.dropoff_latitude <= BB[3])\n",
    "            \n",
    "# load image of NYC map\n",
    "BB = (-74.5, -72.8, 40.5, 41.8)\n",
    "# nyc_map = plt.imread('https://aiblog.nl/download/nyc_-74.5_-72.8_40.5_41.8.png')\n",
    "\n",
    "# load extra image to zoom in on NYC\n",
    "BB_zoom = (-74.3, -73.7, 40.5, 40.9)\n",
    "# nyc_map_zoom = plt.imread('https://aiblog.nl/download/nyc_-74.3_-73.7_40.5_40.9.png')"
   ]
  },
  {
   "cell_type": "code",
   "execution_count": 32,
   "id": "e21f68a4",
   "metadata": {},
   "outputs": [
    {
     "name": "stdout",
     "output_type": "stream",
     "text": [
      "Old size: 10000\n",
      "New size: 9843\n"
     ]
    }
   ],
   "source": [
    "print('Old size: %d' % len(df_train))\n",
    "df_train = df_train[select_within_boundingbox(df_train, BB)]\n",
    "print('New size: %d' % len(df_train))"
   ]
  },
  {
   "cell_type": "code",
   "execution_count": 33,
   "id": "25df9a4d",
   "metadata": {},
   "outputs": [],
   "source": [
    "def remove_datapoints_from_water(df):\n",
    "    def lonlat_to_xy(longitude, latitude, dx, dy, BB):\n",
    "        return (dx*(longitude - BB[0])/(BB[1]-BB[0])).astype('int'), \\\n",
    "               (dy - dy*(latitude - BB[2])/(BB[3]-BB[2])).astype('int')\n",
    "\n",
    "    # define bounding box\n",
    "    BB = (-74.5, -72.8, 40.5, 41.8)\n",
    "    \n",
    "    # read nyc mask and turn into boolean map with\n",
    "    # land = True, water = False\n",
    "    nyc_mask = plt.imread('https://aiblog.nl/download/nyc_mask-74.5_-72.8_40.5_41.8.png')[:,:,0] > 0.9\n",
    "    \n",
    "    # calculate for each lon,lat coordinate the xy coordinate in the mask map\n",
    "    pickup_x, pickup_y = lonlat_to_xy(df.pickup_longitude, df.pickup_latitude, \n",
    "                                      nyc_mask.shape[1], nyc_mask.shape[0], BB)\n",
    "    dropoff_x, dropoff_y = lonlat_to_xy(df.dropoff_longitude, df.dropoff_latitude, \n",
    "                                      nyc_mask.shape[1], nyc_mask.shape[0], BB)    \n",
    "    # calculate boolean index\n",
    "    idx = nyc_mask[pickup_y, pickup_x] & nyc_mask[dropoff_y, dropoff_x]\n",
    "    \n",
    "    # return only datapoints on land\n",
    "    return df[idx]"
   ]
  },
  {
   "cell_type": "code",
   "execution_count": 34,
   "id": "731ab85c",
   "metadata": {},
   "outputs": [],
   "source": [
    "# print('Old size: %d' % len(df_train))\n",
    "# df_train = remove_datapoints_from_water(df_train)\n",
    "# print('New size: %d' % len(df_train))"
   ]
  },
  {
   "cell_type": "code",
   "execution_count": 35,
   "id": "e1855cf2",
   "metadata": {},
   "outputs": [],
   "source": [
    "# For this plot and further analysis, we need a function to calculate the distance in miles between locations in lon,lat coordinates.\n",
    "# This function is based on https://stackoverflow.com/questions/27928/\n",
    "# calculate-distance-between-two-latitude-longitude-points-haversine-formula \n",
    "# return distance in miles\n",
    "def distance(lat1, lon1, lat2, lon2):\n",
    "    p = 0.017453292519943295 # Pi/180\n",
    "    a = 0.5 - np.cos((lat2 - lat1) * p)/2 + np.cos(lat1 * p) * np.cos(lat2 * p) * (1 - np.cos((lon2 - lon1) * p)) / 2\n",
    "    return 0.6213712 * 12742 * np.arcsin(np.sqrt(a)) # 2*R*asin...\n",
    "\n",
    "# # First calculate two arrays with datapoint density per sq mile\n",
    "# n_lon, n_lat = 200, 200 # number of grid bins per longitude, latitude dimension\n",
    "# density_pickup, density_dropoff = np.zeros((n_lat, n_lon)), np.zeros((n_lat, n_lon)) # prepare arrays\n",
    "\n",
    "# # To calculate the number of datapoints in a grid area, the numpy.digitize() function is used. \n",
    "# # This function needs an array with the (location) bins for counting the number of datapoints\n",
    "# # per bin.\n",
    "# bins_lon = np.zeros(n_lon+1) # bin\n",
    "# bins_lat = np.zeros(n_lat+1) # bin\n",
    "# delta_lon = (BB[1]-BB[0]) / n_lon # bin longutide width\n",
    "# delta_lat = (BB[3]-BB[2]) / n_lat # bin latitude height\n",
    "# bin_width_miles = distance(BB[2], BB[1], BB[2], BB[0]) / n_lon # bin width in miles\n",
    "# bin_height_miles = distance(BB[3], BB[0], BB[2], BB[0]) / n_lat # bin height in miles\n",
    "# for i in range(n_lon+1):\n",
    "#     bins_lon[i] = BB[0] + i * delta_lon\n",
    "# for j in range(n_lat+1):\n",
    "#     bins_lat[j] = BB[2] + j * delta_lat\n",
    "    \n",
    "# # Digitize per longitude, latitude dimension\n",
    "# inds_pickup_lon = np.digitize(df_train.pickup_longitude, bins_lon)\n",
    "# inds_pickup_lat = np.digitize(df_train.pickup_latitude, bins_lat)\n",
    "# inds_dropoff_lon = np.digitize(df_train.dropoff_longitude, bins_lon)\n",
    "# inds_dropoff_lat = np.digitize(df_train.dropoff_latitude, bins_lat)\n",
    "\n",
    "# # Count per grid bin\n",
    "# # note: as the density_pickup will be displayed as image, the first index is the y-direction, \n",
    "# #       the second index is the x-direction. Also, the y-direction needs to be reversed for\n",
    "# #       properly displaying (therefore the (n_lat-j) term)\n",
    "# dxdy = bin_width_miles * bin_height_miles\n",
    "# for i in range(n_lon):\n",
    "#     for j in range(n_lat):\n",
    "#         density_pickup[j, i] = np.sum((inds_pickup_lon==i+1) & (inds_pickup_lat==(n_lat-j))) / dxdy\n",
    "#         density_dropoff[j, i] = np.sum((inds_dropoff_lon==i+1) & (inds_dropoff_lat==(n_lat-j))) / dxdy"
   ]
  },
  {
   "cell_type": "code",
   "execution_count": 36,
   "id": "d078aa4e",
   "metadata": {},
   "outputs": [],
   "source": [
    "df_train['year'] = df_train.pickup_datetime.apply(lambda t: t.year)\n",
    "df_train['weekday'] = df_train.pickup_datetime.apply(lambda t: t.weekday())\n",
    "df_train['hour'] = df_train.pickup_datetime.apply(lambda t: t.hour)"
   ]
  },
  {
   "cell_type": "code",
   "execution_count": 37,
   "id": "06a677dd",
   "metadata": {},
   "outputs": [
    {
     "data": {
      "text/plain": [
       "count    9843.000000\n",
       "mean        1.941262\n",
       "std         2.417451\n",
       "min         0.000000\n",
       "25%         0.748622\n",
       "50%         1.270155\n",
       "75%         2.289671\n",
       "max        63.372442\n",
       "Name: distance_miles, dtype: float64"
      ]
     },
     "execution_count": 37,
     "metadata": {},
     "output_type": "execute_result"
    },
    {
     "data": {
      "image/png": "[encoded data removed]",
      "text/plain": [
       "<Figure size 1200x400 with 1 Axes>"
      ]
     },
     "metadata": {},
     "output_type": "display_data"
    }
   ],
   "source": [
    "df_train['distance_miles'] = distance(df_train.pickup_latitude, df_train.pickup_longitude, \\\n",
    "                                      df_train.dropoff_latitude, df_train.dropoff_longitude)\n",
    "\n",
    "df_train.distance_miles.hist(bins=50, figsize=(12,4))\n",
    "plt.xlabel('distance miles')\n",
    "plt.title('Histogram ride distances in miles')\n",
    "df_train.distance_miles.describe()"
   ]
  },
  {
   "cell_type": "code",
   "execution_count": 38,
   "id": "0b9ec2a6",
   "metadata": {},
   "outputs": [
    {
     "name": "stdout",
     "output_type": "stream",
     "text": [
      "Old size: 9843\n",
      "New size: 9646\n"
     ]
    }
   ],
   "source": [
    "idx = (df_train.distance_miles >= 0.05)\n",
    "print('Old size: %d' % len(df_train))\n",
    "df_train = df_train[idx]\n",
    "print('New size: %d' % len(df_train))"
   ]
  },
  {
   "cell_type": "code",
   "execution_count": 39,
   "id": "6c28f5c8",
   "metadata": {},
   "outputs": [
    {
     "data": {
      "text/plain": [
       "count    9646.000000\n",
       "mean        1.980811\n",
       "std         2.425959\n",
       "min         0.052429\n",
       "25%         0.773847\n",
       "50%         1.298509\n",
       "75%         2.320633\n",
       "max        63.372442\n",
       "Name: distance_miles, dtype: float64"
      ]
     },
     "execution_count": 39,
     "metadata": {},
     "output_type": "execute_result"
    }
   ],
   "source": [
    "# df_train.distance_miles.hist(bins=50, figsize=(12,4))\n",
    "# plt.xlabel('distance miles')\n",
    "# plt.title('Histogram ride distances in miles')\n",
    "df_train.distance_miles.describe()"
   ]
  },
  {
   "cell_type": "code",
   "execution_count": 40,
   "id": "539dcb87",
   "metadata": {},
   "outputs": [
    {
     "data": {
      "text/html": [
       "<div>\n",
       "<style scoped>\n",
       "    .dataframe tbody tr th:only-of-type {\n",
       "        vertical-align: middle;\n",
       "    }\n",
       "\n",
       "    .dataframe tbody tr th {\n",
       "        vertical-align: top;\n",
       "    }\n",
       "\n",
       "    .dataframe thead th {\n",
       "        text-align: right;\n",
       "    }\n",
       "</style>\n",
       "<table border=\"1\" class=\"dataframe\">\n",
       "  <thead>\n",
       "    <tr style=\"text-align: right;\">\n",
       "      <th></th>\n",
       "      <th>key</th>\n",
       "      <th>fare_amount</th>\n",
       "      <th>pickup_datetime</th>\n",
       "      <th>pickup_longitude</th>\n",
       "      <th>pickup_latitude</th>\n",
       "      <th>dropoff_longitude</th>\n",
       "      <th>dropoff_latitude</th>\n",
       "      <th>passenger_count</th>\n",
       "      <th>year</th>\n",
       "      <th>weekday</th>\n",
       "      <th>hour</th>\n",
       "      <th>distance_miles</th>\n",
       "    </tr>\n",
       "  </thead>\n",
       "  <tbody>\n",
       "    <tr>\n",
       "      <th>0</th>\n",
       "      <td>2009-02-27 13:31:21.0000003</td>\n",
       "      <td>16.5</td>\n",
       "      <td>2009-02-27 13:31:21</td>\n",
       "      <td>-73.974938</td>\n",
       "      <td>40.762091</td>\n",
       "      <td>-74.003309</td>\n",
       "      <td>40.706195</td>\n",
       "      <td>2</td>\n",
       "      <td>2009</td>\n",
       "      <td>4</td>\n",
       "      <td>13</td>\n",
       "      <td>4.137835</td>\n",
       "    </tr>\n",
       "    <tr>\n",
       "      <th>1</th>\n",
       "      <td>2009-02-13 16:54:52.0000006</td>\n",
       "      <td>6.7</td>\n",
       "      <td>2009-02-13 16:54:52</td>\n",
       "      <td>-73.959669</td>\n",
       "      <td>40.779718</td>\n",
       "      <td>-73.976259</td>\n",
       "      <td>40.788413</td>\n",
       "      <td>1</td>\n",
       "      <td>2009</td>\n",
       "      <td>4</td>\n",
       "      <td>16</td>\n",
       "      <td>1.055559</td>\n",
       "    </tr>\n",
       "    <tr>\n",
       "      <th>3</th>\n",
       "      <td>2009-02-16 07:40:14.0000002</td>\n",
       "      <td>14.5</td>\n",
       "      <td>2009-02-16 07:40:14</td>\n",
       "      <td>-73.948872</td>\n",
       "      <td>40.807601</td>\n",
       "      <td>-73.937218</td>\n",
       "      <td>40.767366</td>\n",
       "      <td>1</td>\n",
       "      <td>2009</td>\n",
       "      <td>0</td>\n",
       "      <td>7</td>\n",
       "      <td>2.846035</td>\n",
       "    </tr>\n",
       "    <tr>\n",
       "      <th>4</th>\n",
       "      <td>2009-02-27 17:39:00.000000125</td>\n",
       "      <td>8.1</td>\n",
       "      <td>2009-02-27 17:39:00</td>\n",
       "      <td>-73.992877</td>\n",
       "      <td>40.742668</td>\n",
       "      <td>-73.983468</td>\n",
       "      <td>40.747480</td>\n",
       "      <td>1</td>\n",
       "      <td>2009</td>\n",
       "      <td>4</td>\n",
       "      <td>17</td>\n",
       "      <td>0.594244</td>\n",
       "    </tr>\n",
       "    <tr>\n",
       "      <th>5</th>\n",
       "      <td>2009-02-08 10:46:00.00000085</td>\n",
       "      <td>10.9</td>\n",
       "      <td>2009-02-08 10:46:00</td>\n",
       "      <td>-73.998053</td>\n",
       "      <td>40.722607</td>\n",
       "      <td>-73.965630</td>\n",
       "      <td>40.762180</td>\n",
       "      <td>1</td>\n",
       "      <td>2009</td>\n",
       "      <td>6</td>\n",
       "      <td>10</td>\n",
       "      <td>3.218205</td>\n",
       "    </tr>\n",
       "  </tbody>\n",
       "</table>\n",
       "</div>"
      ],
      "text/plain": [
       "                             key  fare_amount     pickup_datetime  \\\n",
       "0    2009-02-27 13:31:21.0000003         16.5 2009-02-27 13:31:21   \n",
       "1    2009-02-13 16:54:52.0000006          6.7 2009-02-13 16:54:52   \n",
       "3    2009-02-16 07:40:14.0000002         14.5 2009-02-16 07:40:14   \n",
       "4  2009-02-27 17:39:00.000000125          8.1 2009-02-27 17:39:00   \n",
       "5   2009-02-08 10:46:00.00000085         10.9 2009-02-08 10:46:00   \n",
       "\n",
       "   pickup_longitude  pickup_latitude  dropoff_longitude  dropoff_latitude  \\\n",
       "0        -73.974938        40.762091         -74.003309         40.706195   \n",
       "1        -73.959669        40.779718         -73.976259         40.788413   \n",
       "3        -73.948872        40.807601         -73.937218         40.767366   \n",
       "4        -73.992877        40.742668         -73.983468         40.747480   \n",
       "5        -73.998053        40.722607         -73.965630         40.762180   \n",
       "\n",
       "   passenger_count  year  weekday  hour  distance_miles  \n",
       "0                2  2009        4    13        4.137835  \n",
       "1                1  2009        4    16        1.055559  \n",
       "3                1  2009        0     7        2.846035  \n",
       "4                1  2009        4    17        0.594244  \n",
       "5                1  2009        6    10        3.218205  "
      ]
     },
     "execution_count": 40,
     "metadata": {},
     "output_type": "execute_result"
    }
   ],
   "source": [
    "df_train.head()"
   ]
  },
  {
   "cell_type": "code",
   "execution_count": 41,
   "id": "94a31d89",
   "metadata": {},
   "outputs": [],
   "source": [
    "# jfk = (-73.7822222222, 40.6441666667)\n",
    "nyc = (-74.0063889, 40.7141667)\n",
    "\n",
    "# def plot_location_fare(loc, name, range=1.5):\n",
    "#     # select all datapoints with dropoff location within range of airport\n",
    "#     fig, axs = plt.subplots(1, 2, figsize=(14, 5))\n",
    "#     idx = (distance(df_train.pickup_latitude, df_train.pickup_longitude, loc[1], loc[0]) < range)\n",
    "#     df_train[idx].fare_amount.hist(bins=100, ax=axs[0])\n",
    "#     axs[0].set_xlabel('fare $USD')\n",
    "#     axs[0].set_title('Histogram pickup location within {} miles of {}'.format(range, name))\n",
    "\n",
    "#     idx = (distance(df_train.dropoff_latitude, df_train.dropoff_longitude, loc[1], loc[0]) < range)\n",
    "#     df_train[idx].fare_amount.hist(bins=100, ax=axs[1])\n",
    "#     axs[1].set_xlabel('fare $USD')\n",
    "#     axs[1].set_title('Histogram dropoff location within {} miles of {}'.format(range, name));\n",
    "    \n",
    "# plot_location_fare(jfk, 'JFK Airport')"
   ]
  },
  {
   "cell_type": "code",
   "execution_count": 42,
   "id": "2f6181f2",
   "metadata": {},
   "outputs": [],
   "source": [
    "# ewr = (-74.175, 40.69) # Newark Liberty International Airport, see https://www.travelmath.com/airport/EWR\n",
    "# lgr = (-73.87, 40.77) # LaGuardia Airport, see https://www.travelmath.com/airport/LGA\n",
    "# plot_location_fare(ewr, 'Newark Airport')\n",
    "# plot_location_fare(lgr, 'LaGuardia Airport')"
   ]
  },
  {
   "cell_type": "code",
   "execution_count": 43,
   "id": "d0f042c5",
   "metadata": {},
   "outputs": [],
   "source": [
    "# df_train['fare_per_mile'] = df_train.fare_amount / df_train.distance_miles\n",
    "# df_train.fare_per_mile.describe()"
   ]
  },
  {
   "cell_type": "code",
   "execution_count": 44,
   "id": "5fda8a0d",
   "metadata": {},
   "outputs": [],
   "source": [
    "df_train['distance_to_center'] = distance(nyc[1], nyc[0], df_train.pickup_latitude, df_train.pickup_longitude)"
   ]
  },
  {
   "cell_type": "code",
   "execution_count": 45,
   "id": "735d1c3c",
   "metadata": {},
   "outputs": [],
   "source": [
    "# df_train['pickup_distance_to_jfk'] = distance(jfk[1], jfk[0], df_train.pickup_latitude, df_train.pickup_longitude)\n",
    "# df_train['dropoff_distance_to_jfk'] = distance(jfk[1], jfk[0], df_train.dropoff_latitude, df_train.dropoff_longitude)"
   ]
  },
  {
   "cell_type": "code",
   "execution_count": 46,
   "id": "568e8beb",
   "metadata": {},
   "outputs": [
    {
     "data": {
      "text/html": [
       "<div>\n",
       "<style scoped>\n",
       "    .dataframe tbody tr th:only-of-type {\n",
       "        vertical-align: middle;\n",
       "    }\n",
       "\n",
       "    .dataframe tbody tr th {\n",
       "        vertical-align: top;\n",
       "    }\n",
       "\n",
       "    .dataframe thead th {\n",
       "        text-align: right;\n",
       "    }\n",
       "</style>\n",
       "<table border=\"1\" class=\"dataframe\">\n",
       "  <thead>\n",
       "    <tr style=\"text-align: right;\">\n",
       "      <th></th>\n",
       "      <th>key</th>\n",
       "      <th>fare_amount</th>\n",
       "      <th>pickup_datetime</th>\n",
       "      <th>pickup_longitude</th>\n",
       "      <th>pickup_latitude</th>\n",
       "      <th>dropoff_longitude</th>\n",
       "      <th>dropoff_latitude</th>\n",
       "      <th>passenger_count</th>\n",
       "      <th>year</th>\n",
       "      <th>weekday</th>\n",
       "      <th>hour</th>\n",
       "      <th>distance_miles</th>\n",
       "      <th>distance_to_center</th>\n",
       "    </tr>\n",
       "  </thead>\n",
       "  <tbody>\n",
       "    <tr>\n",
       "      <th>0</th>\n",
       "      <td>2009-02-27 13:31:21.0000003</td>\n",
       "      <td>16.5</td>\n",
       "      <td>2009-02-27 13:31:21</td>\n",
       "      <td>-73.974938</td>\n",
       "      <td>40.762091</td>\n",
       "      <td>-74.003309</td>\n",
       "      <td>40.706195</td>\n",
       "      <td>2</td>\n",
       "      <td>2009</td>\n",
       "      <td>4</td>\n",
       "      <td>13</td>\n",
       "      <td>4.137835</td>\n",
       "      <td>3.698026</td>\n",
       "    </tr>\n",
       "    <tr>\n",
       "      <th>1</th>\n",
       "      <td>2009-02-13 16:54:52.0000006</td>\n",
       "      <td>6.7</td>\n",
       "      <td>2009-02-13 16:54:52</td>\n",
       "      <td>-73.959669</td>\n",
       "      <td>40.779718</td>\n",
       "      <td>-73.976259</td>\n",
       "      <td>40.788413</td>\n",
       "      <td>1</td>\n",
       "      <td>2009</td>\n",
       "      <td>4</td>\n",
       "      <td>16</td>\n",
       "      <td>1.055559</td>\n",
       "      <td>5.147234</td>\n",
       "    </tr>\n",
       "  </tbody>\n",
       "</table>\n",
       "</div>"
      ],
      "text/plain": [
       "                           key  fare_amount     pickup_datetime  \\\n",
       "0  2009-02-27 13:31:21.0000003         16.5 2009-02-27 13:31:21   \n",
       "1  2009-02-13 16:54:52.0000006          6.7 2009-02-13 16:54:52   \n",
       "\n",
       "   pickup_longitude  pickup_latitude  dropoff_longitude  dropoff_latitude  \\\n",
       "0        -73.974938        40.762091         -74.003309         40.706195   \n",
       "1        -73.959669        40.779718         -73.976259         40.788413   \n",
       "\n",
       "   passenger_count  year  weekday  hour  distance_miles  distance_to_center  \n",
       "0                2  2009        4    13        4.137835            3.698026  \n",
       "1                1  2009        4    16        1.055559            5.147234  "
      ]
     },
     "execution_count": 46,
     "metadata": {},
     "output_type": "execute_result"
    }
   ],
   "source": [
    "df_train.head(2)"
   ]
  },
  {
   "cell_type": "code",
   "execution_count": 47,
   "id": "941d6647",
   "metadata": {},
   "outputs": [],
   "source": [
    "# df_train['pickup_distance_to_ewr'] = distance(ewr[1], ewr[0], df_train.pickup_latitude, df_train.pickup_longitude)\n",
    "# df_train['dropoff_distance_to_ewr'] = distance(ewr[1], ewr[0], df_train.dropoff_latitude, df_train.dropoff_longitude)\n",
    "# df_train['pickup_distance_to_lgr'] = distance(lgr[1], lgr[0], df_train.pickup_latitude, df_train.pickup_longitude)\n",
    "# df_train['dropoff_distance_to_lgr'] = distance(lgr[1], lgr[0], df_train.dropoff_latitude, df_train.dropoff_longitude)"
   ]
  },
  {
   "cell_type": "code",
   "execution_count": 48,
   "id": "0d7e56af",
   "metadata": {},
   "outputs": [
    {
     "data": {
      "text/html": [
       "<div>\n",
       "<style scoped>\n",
       "    .dataframe tbody tr th:only-of-type {\n",
       "        vertical-align: middle;\n",
       "    }\n",
       "\n",
       "    .dataframe tbody tr th {\n",
       "        vertical-align: top;\n",
       "    }\n",
       "\n",
       "    .dataframe thead th {\n",
       "        text-align: right;\n",
       "    }\n",
       "</style>\n",
       "<table border=\"1\" class=\"dataframe\">\n",
       "  <thead>\n",
       "    <tr style=\"text-align: right;\">\n",
       "      <th></th>\n",
       "      <th>key</th>\n",
       "      <th>fare_amount</th>\n",
       "      <th>pickup_datetime</th>\n",
       "      <th>pickup_longitude</th>\n",
       "      <th>pickup_latitude</th>\n",
       "      <th>dropoff_longitude</th>\n",
       "      <th>dropoff_latitude</th>\n",
       "      <th>passenger_count</th>\n",
       "      <th>year</th>\n",
       "      <th>weekday</th>\n",
       "      <th>hour</th>\n",
       "      <th>distance_miles</th>\n",
       "      <th>distance_to_center</th>\n",
       "    </tr>\n",
       "  </thead>\n",
       "  <tbody>\n",
       "    <tr>\n",
       "      <th>0</th>\n",
       "      <td>2009-02-27 13:31:21.0000003</td>\n",
       "      <td>16.5</td>\n",
       "      <td>2009-02-27 13:31:21</td>\n",
       "      <td>-73.974938</td>\n",
       "      <td>40.762091</td>\n",
       "      <td>-74.003309</td>\n",
       "      <td>40.706195</td>\n",
       "      <td>2</td>\n",
       "      <td>2009</td>\n",
       "      <td>4</td>\n",
       "      <td>13</td>\n",
       "      <td>4.137835</td>\n",
       "      <td>3.698026</td>\n",
       "    </tr>\n",
       "    <tr>\n",
       "      <th>1</th>\n",
       "      <td>2009-02-13 16:54:52.0000006</td>\n",
       "      <td>6.7</td>\n",
       "      <td>2009-02-13 16:54:52</td>\n",
       "      <td>-73.959669</td>\n",
       "      <td>40.779718</td>\n",
       "      <td>-73.976259</td>\n",
       "      <td>40.788413</td>\n",
       "      <td>1</td>\n",
       "      <td>2009</td>\n",
       "      <td>4</td>\n",
       "      <td>16</td>\n",
       "      <td>1.055559</td>\n",
       "      <td>5.147234</td>\n",
       "    </tr>\n",
       "  </tbody>\n",
       "</table>\n",
       "</div>"
      ],
      "text/plain": [
       "                           key  fare_amount     pickup_datetime  \\\n",
       "0  2009-02-27 13:31:21.0000003         16.5 2009-02-27 13:31:21   \n",
       "1  2009-02-13 16:54:52.0000006          6.7 2009-02-13 16:54:52   \n",
       "\n",
       "   pickup_longitude  pickup_latitude  dropoff_longitude  dropoff_latitude  \\\n",
       "0        -73.974938        40.762091         -74.003309         40.706195   \n",
       "1        -73.959669        40.779718         -73.976259         40.788413   \n",
       "\n",
       "   passenger_count  year  weekday  hour  distance_miles  distance_to_center  \n",
       "0                2  2009        4    13        4.137835            3.698026  \n",
       "1                1  2009        4    16        1.055559            5.147234  "
      ]
     },
     "execution_count": 48,
     "metadata": {},
     "output_type": "execute_result"
    }
   ],
   "source": [
    "df_train.head(2)"
   ]
  },
  {
   "cell_type": "code",
   "execution_count": 49,
   "id": "1f121016",
   "metadata": {},
   "outputs": [],
   "source": [
    "# df_train['delta_lon'] = df_train.pickup_longitude - df_train.dropoff_longitude\n",
    "# df_train['delta_lat'] = df_train.pickup_latitude - df_train.dropoff_latitude\n",
    "\n",
    "# # Select trips in Manhattan\n",
    "# BB_manhattan = (-74.025, -73.925, 40.7, 40.8)\n",
    "# idx_manhattan = select_within_boundingbox(df_train, BB_manhattan)\n",
    "\n",
    "# plt.figure(figsize=(14,8))\n",
    "# plt.scatter(df_train[idx_manhattan].delta_lon, df_train[idx_manhattan].delta_lat, s=0.5, alpha=1.0, \n",
    "#             c=np.log1p(df_train[idx_manhattan].fare_amount), cmap='magma')\n",
    "# plt.colorbar()\n",
    "# plt.xlabel('pickup_longitude - dropoff_longitude')\n",
    "# plt.ylabel('pickup_latitude - dropoff_latidue')\n",
    "# plt.title('log1p(fare_amount)');"
   ]
  },
  {
   "cell_type": "code",
   "execution_count": 50,
   "id": "4524431b",
   "metadata": {},
   "outputs": [
    {
     "name": "stdout",
     "output_type": "stream",
     "text": [
      "Old size: 9646\n",
      "New size: 9636\n"
     ]
    }
   ],
   "source": [
    "idx = (df_train.distance_to_center<15) & (df_train.passenger_count!=0)\n",
    "print('Old size: %d' % len(df_train))\n",
    "df_train = df_train[idx]\n",
    "print('New size: %d' % len(df_train))"
   ]
  },
  {
   "cell_type": "code",
   "execution_count": 51,
   "id": "8df26b29",
   "metadata": {},
   "outputs": [],
   "source": [
    "df_test['distance_miles'] = distance(df_test.pickup_latitude, df_test.pickup_longitude, \\\n",
    "                                     df_test.dropoff_latitude, df_test.dropoff_longitude)\n",
    "df_test['distance_to_center'] = distance(nyc[1], nyc[0], \\\n",
    "                                          df_test.dropoff_latitude, df_test.dropoff_longitude)\n",
    "df_test['hour'] = df_test.pickup_datetime.apply(lambda t: pd.to_datetime(t).hour)\n",
    "df_test['year'] = df_test.pickup_datetime.apply(lambda t: pd.to_datetime(t).year)"
   ]
  },
  {
   "cell_type": "code",
   "execution_count": 52,
   "id": "cc342d1d",
   "metadata": {},
   "outputs": [
    {
     "name": "stdout",
     "output_type": "stream",
     "text": [
      "<class 'pandas.core.frame.DataFrame'>\n",
      "RangeIndex: 9914 entries, 0 to 9913\n",
      "Data columns (total 11 columns):\n",
      " #   Column              Non-Null Count  Dtype         \n",
      "---  ------              --------------  -----         \n",
      " 0   key                 9914 non-null   object        \n",
      " 1   pickup_datetime     9914 non-null   datetime64[ns]\n",
      " 2   pickup_longitude    9914 non-null   float64       \n",
      " 3   pickup_latitude     9914 non-null   float64       \n",
      " 4   dropoff_longitude   9914 non-null   float64       \n",
      " 5   dropoff_latitude    9914 non-null   float64       \n",
      " 6   passenger_count     9914 non-null   int64         \n",
      " 7   distance_miles      9914 non-null   float64       \n",
      " 8   distance_to_center  9914 non-null   float64       \n",
      " 9   hour                9914 non-null   int64         \n",
      " 10  year                9914 non-null   int64         \n",
      "dtypes: datetime64[ns](1), float64(6), int64(3), object(1)\n",
      "memory usage: 852.1+ KB\n"
     ]
    }
   ],
   "source": [
    "df_test.info()"
   ]
  },
  {
   "cell_type": "code",
   "execution_count": 53,
   "id": "d109a114",
   "metadata": {},
   "outputs": [
    {
     "data": {
      "text/html": [
       "<div>\n",
       "<style scoped>\n",
       "    .dataframe tbody tr th:only-of-type {\n",
       "        vertical-align: middle;\n",
       "    }\n",
       "\n",
       "    .dataframe tbody tr th {\n",
       "        vertical-align: top;\n",
       "    }\n",
       "\n",
       "    .dataframe thead th {\n",
       "        text-align: right;\n",
       "    }\n",
       "</style>\n",
       "<table border=\"1\" class=\"dataframe\">\n",
       "  <thead>\n",
       "    <tr style=\"text-align: right;\">\n",
       "      <th></th>\n",
       "      <th>key</th>\n",
       "      <th>pickup_datetime</th>\n",
       "      <th>pickup_longitude</th>\n",
       "      <th>pickup_latitude</th>\n",
       "      <th>dropoff_longitude</th>\n",
       "      <th>dropoff_latitude</th>\n",
       "      <th>passenger_count</th>\n",
       "      <th>distance_miles</th>\n",
       "      <th>distance_to_center</th>\n",
       "      <th>hour</th>\n",
       "      <th>year</th>\n",
       "    </tr>\n",
       "  </thead>\n",
       "  <tbody>\n",
       "    <tr>\n",
       "      <th>0</th>\n",
       "      <td>2015-01-27 13:08:24.0000002</td>\n",
       "      <td>2015-01-27 13:08:24</td>\n",
       "      <td>-73.973320</td>\n",
       "      <td>40.763805</td>\n",
       "      <td>-73.981430</td>\n",
       "      <td>40.743835</td>\n",
       "      <td>1</td>\n",
       "      <td>1.443607</td>\n",
       "      <td>2.431036</td>\n",
       "      <td>13</td>\n",
       "      <td>2015</td>\n",
       "    </tr>\n",
       "    <tr>\n",
       "      <th>1</th>\n",
       "      <td>2015-01-27 13:08:24.0000003</td>\n",
       "      <td>2015-01-27 13:08:24</td>\n",
       "      <td>-73.986862</td>\n",
       "      <td>40.719383</td>\n",
       "      <td>-73.998886</td>\n",
       "      <td>40.739201</td>\n",
       "      <td>1</td>\n",
       "      <td>1.507044</td>\n",
       "      <td>1.773728</td>\n",
       "      <td>13</td>\n",
       "      <td>2015</td>\n",
       "    </tr>\n",
       "  </tbody>\n",
       "</table>\n",
       "</div>"
      ],
      "text/plain": [
       "                           key     pickup_datetime  pickup_longitude  \\\n",
       "0  2015-01-27 13:08:24.0000002 2015-01-27 13:08:24        -73.973320   \n",
       "1  2015-01-27 13:08:24.0000003 2015-01-27 13:08:24        -73.986862   \n",
       "\n",
       "   pickup_latitude  dropoff_longitude  dropoff_latitude  passenger_count  \\\n",
       "0        40.763805         -73.981430         40.743835                1   \n",
       "1        40.719383         -73.998886         40.739201                1   \n",
       "\n",
       "   distance_miles  distance_to_center  hour  year  \n",
       "0        1.443607            2.431036    13  2015  \n",
       "1        1.507044            1.773728    13  2015  "
      ]
     },
     "execution_count": 53,
     "metadata": {},
     "output_type": "execute_result"
    }
   ],
   "source": [
    "df_test.head(2)"
   ]
  },
  {
   "cell_type": "code",
   "execution_count": 54,
   "id": "93fee1d7",
   "metadata": {},
   "outputs": [
    {
     "data": {
      "text/html": [
       "<div>\n",
       "<style scoped>\n",
       "    .dataframe tbody tr th:only-of-type {\n",
       "        vertical-align: middle;\n",
       "    }\n",
       "\n",
       "    .dataframe tbody tr th {\n",
       "        vertical-align: top;\n",
       "    }\n",
       "\n",
       "    .dataframe thead th {\n",
       "        text-align: right;\n",
       "    }\n",
       "</style>\n",
       "<table border=\"1\" class=\"dataframe\">\n",
       "  <thead>\n",
       "    <tr style=\"text-align: right;\">\n",
       "      <th></th>\n",
       "      <th>key</th>\n",
       "      <th>fare_amount</th>\n",
       "      <th>pickup_datetime</th>\n",
       "      <th>pickup_longitude</th>\n",
       "      <th>pickup_latitude</th>\n",
       "      <th>dropoff_longitude</th>\n",
       "      <th>dropoff_latitude</th>\n",
       "      <th>passenger_count</th>\n",
       "      <th>year</th>\n",
       "      <th>weekday</th>\n",
       "      <th>hour</th>\n",
       "      <th>distance_miles</th>\n",
       "      <th>distance_to_center</th>\n",
       "    </tr>\n",
       "  </thead>\n",
       "  <tbody>\n",
       "    <tr>\n",
       "      <th>0</th>\n",
       "      <td>2009-02-27 13:31:21.0000003</td>\n",
       "      <td>16.5</td>\n",
       "      <td>2009-02-27 13:31:21</td>\n",
       "      <td>-73.974938</td>\n",
       "      <td>40.762091</td>\n",
       "      <td>-74.003309</td>\n",
       "      <td>40.706195</td>\n",
       "      <td>2</td>\n",
       "      <td>2009</td>\n",
       "      <td>4</td>\n",
       "      <td>13</td>\n",
       "      <td>4.137835</td>\n",
       "      <td>3.698026</td>\n",
       "    </tr>\n",
       "    <tr>\n",
       "      <th>1</th>\n",
       "      <td>2009-02-13 16:54:52.0000006</td>\n",
       "      <td>6.7</td>\n",
       "      <td>2009-02-13 16:54:52</td>\n",
       "      <td>-73.959669</td>\n",
       "      <td>40.779718</td>\n",
       "      <td>-73.976259</td>\n",
       "      <td>40.788413</td>\n",
       "      <td>1</td>\n",
       "      <td>2009</td>\n",
       "      <td>4</td>\n",
       "      <td>16</td>\n",
       "      <td>1.055559</td>\n",
       "      <td>5.147234</td>\n",
       "    </tr>\n",
       "  </tbody>\n",
       "</table>\n",
       "</div>"
      ],
      "text/plain": [
       "                           key  fare_amount     pickup_datetime  \\\n",
       "0  2009-02-27 13:31:21.0000003         16.5 2009-02-27 13:31:21   \n",
       "1  2009-02-13 16:54:52.0000006          6.7 2009-02-13 16:54:52   \n",
       "\n",
       "   pickup_longitude  pickup_latitude  dropoff_longitude  dropoff_latitude  \\\n",
       "0        -73.974938        40.762091         -74.003309         40.706195   \n",
       "1        -73.959669        40.779718         -73.976259         40.788413   \n",
       "\n",
       "   passenger_count  year  weekday  hour  distance_miles  distance_to_center  \n",
       "0                2  2009        4    13        4.137835            3.698026  \n",
       "1                1  2009        4    16        1.055559            5.147234  "
      ]
     },
     "execution_count": 54,
     "metadata": {},
     "output_type": "execute_result"
    }
   ],
   "source": [
    "df_train.head(2)"
   ]
  },
  {
   "cell_type": "code",
   "execution_count": 2,
   "id": "6846d41e",
   "metadata": {},
   "outputs": [
    {
     "ename": "NameError",
     "evalue": "name 'df_train' is not defined",
     "output_type": "error",
     "traceback": [
      "\u001b[0;31m---------------------------------------------------------------------------\u001b[0m",
      "\u001b[0;31mNameError\u001b[0m                                 Traceback (most recent call last)",
      "Cell \u001b[0;32mIn [2], line 1\u001b[0m\n\u001b[0;32m----> 1\u001b[0m \u001b[43mdf_train\u001b[49m\u001b[38;5;241m.\u001b[39mto_csv(\u001b[38;5;124m'\u001b[39m\u001b[38;5;124ms3://team07-data/SPARK-ETL/pyspark_ETL_2.csv\u001b[39m\u001b[38;5;124m'\u001b[39m, index\u001b[38;5;241m=\u001b[39m\u001b[38;5;28;01mFalse\u001b[39;00m)\n",
      "\u001b[0;31mNameError\u001b[0m: name 'df_train' is not defined"
     ]
    }
   ],
   "source": [
    "df_train.to_csv('s3://team07-data/SPARK-ETL/pyspark_ETL_2.csv', index=False)"
   ]
  },
  {
   "cell_type": "code",
   "execution_count": null,
   "id": "d40b4460",
   "metadata": {},
   "outputs": [],
   "source": []
  }
 ],
 "metadata": {
  "kernelspec": {
   "display_name": "Python 3 (ipykernel)",
   "language": "python",
   "name": "python3"
  },
  "language_info": {
   "codemirror_mode": {
    "name": "ipython",
    "version": 3
   },
   "file_extension": ".py",
   "mimetype": "text/x-python",
   "name": "python",
   "nbconvert_exporter": "python",
   "pygments_lexer": "ipython3",
   "version": "3.8.10"
  }
 },
 "nbformat": 4,
 "nbformat_minor": 5
}
