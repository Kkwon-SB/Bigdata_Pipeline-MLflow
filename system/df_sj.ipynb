{
 "cells": [
  {
   "cell_type": "code",
   "execution_count": null,
   "id": "1ab675c9",
   "metadata": {},
   "outputs": [],
   "source": [
    "#!pip3 install s3fs --user"
   ]
  },
  {
   "cell_type": "code",
   "execution_count": 34,
   "id": "01c559cc",
   "metadata": {},
   "outputs": [],
   "source": [
    "import pandas as pd\n",
    "import numpy as np\n",
    "import matplotlib.pyplot as plt"
   ]
  },
  {
   "cell_type": "code",
   "execution_count": 35,
   "id": "40ff106e",
   "metadata": {},
   "outputs": [],
   "source": [
    "import findspark\n",
    "findspark.init()"
   ]
  },
  {
   "cell_type": "code",
   "execution_count": 36,
   "id": "e009a3a0",
   "metadata": {},
   "outputs": [],
   "source": [
    "import pyspark\n",
    "from pyspark.sql import SparkSession\n",
    "\n",
    "spark = SparkSession.builder.getOrCreate()"
   ]
  },
  {
   "cell_type": "code",
   "execution_count": 37,
   "id": "67800b2c",
   "metadata": {},
   "outputs": [],
   "source": [
    "# 데이터를 hdfs에서 가지고 옴\n",
    "train_data = spark.read.csv(\"hdfs:///user/ubuntu/dataym/2009/02/02.csv\", )\n",
    "# test_data = spark.read.csv(\"\")"
   ]
  },
  {
   "cell_type": "code",
   "execution_count": 38,
   "id": "fc7d5153",
   "metadata": {},
   "outputs": [
    {
     "name": "stdout",
     "output_type": "stream",
     "text": [
      "+--------------------+----+--------------------+----------+---------+----------+---------+---+\n",
      "|                 _c0| _c1|                 _c2|       _c3|      _c4|       _c5|      _c6|_c7|\n",
      "+--------------------+----+--------------------+----------+---------+----------+---------+---+\n",
      "|2009-02-27 13:31:...|16.5|2009-02-27 13:31:...|-73.974938|40.762091|-74.003309|40.706195|  2|\n",
      "|2009-02-13 16:54:...| 6.7|2009-02-13 16:54:...|-73.959669|40.779718|-73.976259|40.788413|  1|\n",
      "|2009-02-22 22:48:...| 2.5|2009-02-22 22:48:...|         0|        0|-74.005433|40.726685|  2|\n",
      "|2009-02-16 07:40:...|14.5|2009-02-16 07:40:...|-73.948872|40.807601|-73.937218|40.767366|  1|\n",
      "|2009-02-27 17:39:...| 8.1|2009-02-27 17:39:...|-73.992877|40.742668|-73.983468| 40.74748|  1|\n",
      "+--------------------+----+--------------------+----------+---------+----------+---------+---+\n",
      "only showing top 5 rows\n",
      "\n"
     ]
    }
   ],
   "source": [
    "train_data.show(5)"
   ]
  },
  {
   "cell_type": "code",
   "execution_count": 39,
   "id": "ecdd3626",
   "metadata": {},
   "outputs": [],
   "source": [
    "# test_data.show(5)"
   ]
  },
  {
   "cell_type": "code",
   "execution_count": 40,
   "id": "91e9abb9",
   "metadata": {},
   "outputs": [
    {
     "data": {
      "text/plain": [
       "pyspark.sql.dataframe.DataFrame"
      ]
     },
     "execution_count": 40,
     "metadata": {},
     "output_type": "execute_result"
    }
   ],
   "source": [
    "type(train_data)"
   ]
  },
  {
   "cell_type": "code",
   "execution_count": 41,
   "id": "771cc52b",
   "metadata": {},
   "outputs": [],
   "source": [
    "# train_data가 너무 크니 10000개로 자르기\n",
    "little_train_data = train_data.limit(10000)"
   ]
  },
  {
   "cell_type": "code",
   "execution_count": 42,
   "id": "c7eddd95",
   "metadata": {},
   "outputs": [
    {
     "data": {
      "text/html": [
       "<div>\n",
       "<style scoped>\n",
       "    .dataframe tbody tr th:only-of-type {\n",
       "        vertical-align: middle;\n",
       "    }\n",
       "\n",
       "    .dataframe tbody tr th {\n",
       "        vertical-align: top;\n",
       "    }\n",
       "\n",
       "    .dataframe thead th {\n",
       "        text-align: right;\n",
       "    }\n",
       "</style>\n",
       "<table border=\"1\" class=\"dataframe\">\n",
       "  <thead>\n",
       "    <tr style=\"text-align: right;\">\n",
       "      <th></th>\n",
       "      <th>_c0</th>\n",
       "      <th>_c1</th>\n",
       "      <th>_c2</th>\n",
       "      <th>_c3</th>\n",
       "      <th>_c4</th>\n",
       "      <th>_c5</th>\n",
       "      <th>_c6</th>\n",
       "      <th>_c7</th>\n",
       "    </tr>\n",
       "  </thead>\n",
       "  <tbody>\n",
       "    <tr>\n",
       "      <th>0</th>\n",
       "      <td>2009-02-27 13:31:21.0000003</td>\n",
       "      <td>16.5</td>\n",
       "      <td>2009-02-27 13:31:21 UTC</td>\n",
       "      <td>-73.974938</td>\n",
       "      <td>40.762091</td>\n",
       "      <td>-74.003309</td>\n",
       "      <td>40.706195</td>\n",
       "      <td>2</td>\n",
       "    </tr>\n",
       "    <tr>\n",
       "      <th>1</th>\n",
       "      <td>2009-02-13 16:54:52.0000006</td>\n",
       "      <td>6.7</td>\n",
       "      <td>2009-02-13 16:54:52 UTC</td>\n",
       "      <td>-73.959669</td>\n",
       "      <td>40.779718</td>\n",
       "      <td>-73.976259</td>\n",
       "      <td>40.788413</td>\n",
       "      <td>1</td>\n",
       "    </tr>\n",
       "  </tbody>\n",
       "</table>\n",
       "</div>"
      ],
      "text/plain": [
       "                           _c0   _c1                      _c2         _c3  \\\n",
       "0  2009-02-27 13:31:21.0000003  16.5  2009-02-27 13:31:21 UTC  -73.974938   \n",
       "1  2009-02-13 16:54:52.0000006   6.7  2009-02-13 16:54:52 UTC  -73.959669   \n",
       "\n",
       "         _c4         _c5        _c6 _c7  \n",
       "0  40.762091  -74.003309  40.706195   2  \n",
       "1  40.779718  -73.976259  40.788413   1  "
      ]
     },
     "metadata": {},
     "output_type": "display_data"
    }
   ],
   "source": [
    "# pyspark.sql.dataframe.DataFrame to Pandas df\n",
    "train_df = little_train_data.toPandas()\n",
    "# test_df = test_data.toPandas()\n",
    "display(train_df.head(2))\n",
    "# test_df.head(2)"
   ]
  },
  {
   "cell_type": "code",
   "execution_count": 43,
   "id": "3dca5940",
   "metadata": {},
   "outputs": [],
   "source": [
    "train_column_list =  [\"key\",\"fare_amount\",\"pickup_datetime\",\"pickup_longitude\",\"pickup_latitude\",\"dropoff_longitude\",\"dropoff_latitude\",\"passenger_count\"]\n",
    "test_column_list = [\"key\",\"pickup_datetime\",\"pickup_longitude\",\"pickup_latitude\",\"dropoff_longitude\",\"dropoff_latitude\",\"passenger_count\"]"
   ]
  },
  {
   "cell_type": "code",
   "execution_count": 44,
   "id": "cb9125a3",
   "metadata": {},
   "outputs": [],
   "source": [
    "train_df.columns = train_column_list\n",
    "# test_df.columns = test_column_list"
   ]
  },
  {
   "cell_type": "code",
   "execution_count": 45,
   "id": "1ec59bfe",
   "metadata": {},
   "outputs": [
    {
     "data": {
      "text/html": [
       "<div>\n",
       "<style scoped>\n",
       "    .dataframe tbody tr th:only-of-type {\n",
       "        vertical-align: middle;\n",
       "    }\n",
       "\n",
       "    .dataframe tbody tr th {\n",
       "        vertical-align: top;\n",
       "    }\n",
       "\n",
       "    .dataframe thead th {\n",
       "        text-align: right;\n",
       "    }\n",
       "</style>\n",
       "<table border=\"1\" class=\"dataframe\">\n",
       "  <thead>\n",
       "    <tr style=\"text-align: right;\">\n",
       "      <th></th>\n",
       "      <th>key</th>\n",
       "      <th>fare_amount</th>\n",
       "      <th>pickup_datetime</th>\n",
       "      <th>pickup_longitude</th>\n",
       "      <th>pickup_latitude</th>\n",
       "      <th>dropoff_longitude</th>\n",
       "      <th>dropoff_latitude</th>\n",
       "      <th>passenger_count</th>\n",
       "    </tr>\n",
       "  </thead>\n",
       "  <tbody>\n",
       "    <tr>\n",
       "      <th>0</th>\n",
       "      <td>2009-02-27 13:31:21.0000003</td>\n",
       "      <td>16.5</td>\n",
       "      <td>2009-02-27 13:31:21 UTC</td>\n",
       "      <td>-73.974938</td>\n",
       "      <td>40.762091</td>\n",
       "      <td>-74.003309</td>\n",
       "      <td>40.706195</td>\n",
       "      <td>2</td>\n",
       "    </tr>\n",
       "    <tr>\n",
       "      <th>1</th>\n",
       "      <td>2009-02-13 16:54:52.0000006</td>\n",
       "      <td>6.7</td>\n",
       "      <td>2009-02-13 16:54:52 UTC</td>\n",
       "      <td>-73.959669</td>\n",
       "      <td>40.779718</td>\n",
       "      <td>-73.976259</td>\n",
       "      <td>40.788413</td>\n",
       "      <td>1</td>\n",
       "    </tr>\n",
       "    <tr>\n",
       "      <th>2</th>\n",
       "      <td>2009-02-22 22:48:00.000000130</td>\n",
       "      <td>2.5</td>\n",
       "      <td>2009-02-22 22:48:00 UTC</td>\n",
       "      <td>0</td>\n",
       "      <td>0</td>\n",
       "      <td>-74.005433</td>\n",
       "      <td>40.726685</td>\n",
       "      <td>2</td>\n",
       "    </tr>\n",
       "    <tr>\n",
       "      <th>3</th>\n",
       "      <td>2009-02-16 07:40:14.0000002</td>\n",
       "      <td>14.5</td>\n",
       "      <td>2009-02-16 07:40:14 UTC</td>\n",
       "      <td>-73.948872</td>\n",
       "      <td>40.807601</td>\n",
       "      <td>-73.937218</td>\n",
       "      <td>40.767366</td>\n",
       "      <td>1</td>\n",
       "    </tr>\n",
       "    <tr>\n",
       "      <th>4</th>\n",
       "      <td>2009-02-27 17:39:00.000000125</td>\n",
       "      <td>8.1</td>\n",
       "      <td>2009-02-27 17:39:00 UTC</td>\n",
       "      <td>-73.992877</td>\n",
       "      <td>40.742668</td>\n",
       "      <td>-73.983468</td>\n",
       "      <td>40.74748</td>\n",
       "      <td>1</td>\n",
       "    </tr>\n",
       "    <tr>\n",
       "      <th>...</th>\n",
       "      <td>...</td>\n",
       "      <td>...</td>\n",
       "      <td>...</td>\n",
       "      <td>...</td>\n",
       "      <td>...</td>\n",
       "      <td>...</td>\n",
       "      <td>...</td>\n",
       "      <td>...</td>\n",
       "    </tr>\n",
       "    <tr>\n",
       "      <th>9995</th>\n",
       "      <td>2009-02-24 18:23:00.000000169</td>\n",
       "      <td>6.5</td>\n",
       "      <td>2009-02-24 18:23:00 UTC</td>\n",
       "      <td>-73.961238</td>\n",
       "      <td>40.75665</td>\n",
       "      <td>-73.976258</td>\n",
       "      <td>40.760223</td>\n",
       "      <td>1</td>\n",
       "    </tr>\n",
       "    <tr>\n",
       "      <th>9996</th>\n",
       "      <td>2009-02-27 08:16:00.0000003</td>\n",
       "      <td>11.3</td>\n",
       "      <td>2009-02-27 08:16:00 UTC</td>\n",
       "      <td>-74.006757</td>\n",
       "      <td>40.730563</td>\n",
       "      <td>-73.973948</td>\n",
       "      <td>40.751045</td>\n",
       "      <td>5</td>\n",
       "    </tr>\n",
       "    <tr>\n",
       "      <th>9997</th>\n",
       "      <td>2009-02-27 08:44:26.0000004</td>\n",
       "      <td>6.5</td>\n",
       "      <td>2009-02-27 08:44:26 UTC</td>\n",
       "      <td>-73.973492</td>\n",
       "      <td>40.753211</td>\n",
       "      <td>-73.984299</td>\n",
       "      <td>40.742373</td>\n",
       "      <td>1</td>\n",
       "    </tr>\n",
       "    <tr>\n",
       "      <th>9998</th>\n",
       "      <td>2009-02-24 08:40:07.0000002</td>\n",
       "      <td>12.5</td>\n",
       "      <td>2009-02-24 08:40:07 UTC</td>\n",
       "      <td>-73.960046</td>\n",
       "      <td>40.770377</td>\n",
       "      <td>-73.981899</td>\n",
       "      <td>40.752158</td>\n",
       "      <td>1</td>\n",
       "    </tr>\n",
       "    <tr>\n",
       "      <th>9999</th>\n",
       "      <td>2009-02-01 06:04:04.0000002</td>\n",
       "      <td>2.5</td>\n",
       "      <td>2009-02-01 06:04:04 UTC</td>\n",
       "      <td>-73.948432</td>\n",
       "      <td>40.782247</td>\n",
       "      <td>-73.948784</td>\n",
       "      <td>40.78185</td>\n",
       "      <td>1</td>\n",
       "    </tr>\n",
       "  </tbody>\n",
       "</table>\n",
       "<p>10000 rows × 8 columns</p>\n",
       "</div>"
      ],
      "text/plain": [
       "                                key fare_amount          pickup_datetime  \\\n",
       "0       2009-02-27 13:31:21.0000003        16.5  2009-02-27 13:31:21 UTC   \n",
       "1       2009-02-13 16:54:52.0000006         6.7  2009-02-13 16:54:52 UTC   \n",
       "2     2009-02-22 22:48:00.000000130         2.5  2009-02-22 22:48:00 UTC   \n",
       "3       2009-02-16 07:40:14.0000002        14.5  2009-02-16 07:40:14 UTC   \n",
       "4     2009-02-27 17:39:00.000000125         8.1  2009-02-27 17:39:00 UTC   \n",
       "...                             ...         ...                      ...   \n",
       "9995  2009-02-24 18:23:00.000000169         6.5  2009-02-24 18:23:00 UTC   \n",
       "9996    2009-02-27 08:16:00.0000003        11.3  2009-02-27 08:16:00 UTC   \n",
       "9997    2009-02-27 08:44:26.0000004         6.5  2009-02-27 08:44:26 UTC   \n",
       "9998    2009-02-24 08:40:07.0000002        12.5  2009-02-24 08:40:07 UTC   \n",
       "9999    2009-02-01 06:04:04.0000002         2.5  2009-02-01 06:04:04 UTC   \n",
       "\n",
       "     pickup_longitude pickup_latitude dropoff_longitude dropoff_latitude  \\\n",
       "0          -73.974938       40.762091        -74.003309        40.706195   \n",
       "1          -73.959669       40.779718        -73.976259        40.788413   \n",
       "2                   0               0        -74.005433        40.726685   \n",
       "3          -73.948872       40.807601        -73.937218        40.767366   \n",
       "4          -73.992877       40.742668        -73.983468         40.74748   \n",
       "...               ...             ...               ...              ...   \n",
       "9995       -73.961238        40.75665        -73.976258        40.760223   \n",
       "9996       -74.006757       40.730563        -73.973948        40.751045   \n",
       "9997       -73.973492       40.753211        -73.984299        40.742373   \n",
       "9998       -73.960046       40.770377        -73.981899        40.752158   \n",
       "9999       -73.948432       40.782247        -73.948784         40.78185   \n",
       "\n",
       "     passenger_count  \n",
       "0                  2  \n",
       "1                  1  \n",
       "2                  2  \n",
       "3                  1  \n",
       "4                  1  \n",
       "...              ...  \n",
       "9995               1  \n",
       "9996               5  \n",
       "9997               1  \n",
       "9998               1  \n",
       "9999               1  \n",
       "\n",
       "[10000 rows x 8 columns]"
      ]
     },
     "execution_count": 45,
     "metadata": {},
     "output_type": "execute_result"
    }
   ],
   "source": [
    "train_df"
   ]
  },
  {
   "cell_type": "code",
   "execution_count": 46,
   "id": "6986081d",
   "metadata": {},
   "outputs": [
    {
     "data": {
      "text/html": [
       "<div>\n",
       "<style scoped>\n",
       "    .dataframe tbody tr th:only-of-type {\n",
       "        vertical-align: middle;\n",
       "    }\n",
       "\n",
       "    .dataframe tbody tr th {\n",
       "        vertical-align: top;\n",
       "    }\n",
       "\n",
       "    .dataframe thead th {\n",
       "        text-align: right;\n",
       "    }\n",
       "</style>\n",
       "<table border=\"1\" class=\"dataframe\">\n",
       "  <thead>\n",
       "    <tr style=\"text-align: right;\">\n",
       "      <th></th>\n",
       "      <th>key</th>\n",
       "      <th>fare_amount</th>\n",
       "      <th>pickup_datetime</th>\n",
       "      <th>pickup_longitude</th>\n",
       "      <th>pickup_latitude</th>\n",
       "      <th>dropoff_longitude</th>\n",
       "      <th>dropoff_latitude</th>\n",
       "      <th>passenger_count</th>\n",
       "    </tr>\n",
       "  </thead>\n",
       "  <tbody>\n",
       "    <tr>\n",
       "      <th>count</th>\n",
       "      <td>10000</td>\n",
       "      <td>10000</td>\n",
       "      <td>10000</td>\n",
       "      <td>10000</td>\n",
       "      <td>10000</td>\n",
       "      <td>10000</td>\n",
       "      <td>10000</td>\n",
       "      <td>10000</td>\n",
       "    </tr>\n",
       "    <tr>\n",
       "      <th>unique</th>\n",
       "      <td>10000</td>\n",
       "      <td>349</td>\n",
       "      <td>8726</td>\n",
       "      <td>8839</td>\n",
       "      <td>9103</td>\n",
       "      <td>9014</td>\n",
       "      <td>9235</td>\n",
       "      <td>6</td>\n",
       "    </tr>\n",
       "    <tr>\n",
       "      <th>top</th>\n",
       "      <td>2009-02-27 13:31:21.0000003</td>\n",
       "      <td>4.9</td>\n",
       "      <td>2009-02-06 18:20:00 UTC</td>\n",
       "      <td>0</td>\n",
       "      <td>0</td>\n",
       "      <td>0</td>\n",
       "      <td>0</td>\n",
       "      <td>1</td>\n",
       "    </tr>\n",
       "    <tr>\n",
       "      <th>freq</th>\n",
       "      <td>1</td>\n",
       "      <td>441</td>\n",
       "      <td>5</td>\n",
       "      <td>154</td>\n",
       "      <td>154</td>\n",
       "      <td>151</td>\n",
       "      <td>151</td>\n",
       "      <td>6849</td>\n",
       "    </tr>\n",
       "  </tbody>\n",
       "</table>\n",
       "</div>"
      ],
      "text/plain": [
       "                                key fare_amount          pickup_datetime  \\\n",
       "count                         10000       10000                    10000   \n",
       "unique                        10000         349                     8726   \n",
       "top     2009-02-27 13:31:21.0000003         4.9  2009-02-06 18:20:00 UTC   \n",
       "freq                              1         441                        5   \n",
       "\n",
       "       pickup_longitude pickup_latitude dropoff_longitude dropoff_latitude  \\\n",
       "count             10000           10000             10000            10000   \n",
       "unique             8839            9103              9014             9235   \n",
       "top                   0               0                 0                0   \n",
       "freq                154             154               151              151   \n",
       "\n",
       "       passenger_count  \n",
       "count            10000  \n",
       "unique               6  \n",
       "top                  1  \n",
       "freq              6849  "
      ]
     },
     "execution_count": 46,
     "metadata": {},
     "output_type": "execute_result"
    }
   ],
   "source": [
    "train_df.describe()"
   ]
  },
  {
   "cell_type": "code",
   "execution_count": 51,
   "id": "e9e58f25",
   "metadata": {},
   "outputs": [
    {
     "name": "stdout",
     "output_type": "stream",
     "text": [
      "<class 'pandas.core.frame.DataFrame'>\n",
      "RangeIndex: 10000 entries, 0 to 9999\n",
      "Data columns (total 8 columns):\n",
      " #   Column             Non-Null Count  Dtype              \n",
      "---  ------             --------------  -----              \n",
      " 0   key                10000 non-null  datetime64[ns]     \n",
      " 1   fare_amount        10000 non-null  float64            \n",
      " 2   pickup_datetime    10000 non-null  datetime64[ns, UTC]\n",
      " 3   pickup_longitude   10000 non-null  float64            \n",
      " 4   pickup_latitude    10000 non-null  float64            \n",
      " 5   dropoff_longitude  10000 non-null  float64            \n",
      " 6   dropoff_latitude   10000 non-null  float64            \n",
      " 7   passenger_count    10000 non-null  int64              \n",
      "dtypes: datetime64[ns, UTC](1), datetime64[ns](1), float64(5), int64(1)\n",
      "memory usage: 625.1 KB\n"
     ]
    }
   ],
   "source": [
    "train_df.info()"
   ]
  },
  {
   "cell_type": "code",
   "execution_count": 47,
   "id": "7a16e54b",
   "metadata": {},
   "outputs": [],
   "source": [
    "train_df['key'] = pd.to_datetime(train_df['key'])\n",
    "train_df['pickup_datetime'] = pd.to_datetime(train_df['pickup_datetime'])\n",
    "# test_df['key'] = pd.to_datetime(test_df['key'])\n",
    "# test_df['pickup_datetime']  = pd.to_datetime(test_df['pickup_datetime'])"
   ]
  },
  {
   "cell_type": "code",
   "execution_count": 49,
   "id": "a42112e8",
   "metadata": {},
   "outputs": [],
   "source": [
    "train_df = train_df.astype({'fare_amount':'float',\n",
    "              'pickup_longitude':'float',\n",
    "              'pickup_latitude':'float',\n",
    "              'dropoff_longitude':'float',\n",
    "              'dropoff_latitude':'float',\n",
    "              'passenger_count':'int'},)\n",
    "# train_df = train_df.astype({'pickup_longitude':'float',\n",
    "#               'pickup_latitude':'float',\n",
    "#               'dropoff_longitude':'float',\n",
    "#               'dropoff_latitude':'float',\n",
    "#               'passenger_count':'int'},)"
   ]
  },
  {
   "cell_type": "code",
   "execution_count": 50,
   "id": "0967e76f",
   "metadata": {},
   "outputs": [
    {
     "name": "stdout",
     "output_type": "stream",
     "text": [
      "<class 'pandas.core.frame.DataFrame'>\n",
      "RangeIndex: 10000 entries, 0 to 9999\n",
      "Data columns (total 8 columns):\n",
      " #   Column             Non-Null Count  Dtype              \n",
      "---  ------             --------------  -----              \n",
      " 0   key                10000 non-null  datetime64[ns]     \n",
      " 1   fare_amount        10000 non-null  float64            \n",
      " 2   pickup_datetime    10000 non-null  datetime64[ns, UTC]\n",
      " 3   pickup_longitude   10000 non-null  float64            \n",
      " 4   pickup_latitude    10000 non-null  float64            \n",
      " 5   dropoff_longitude  10000 non-null  float64            \n",
      " 6   dropoff_latitude   10000 non-null  float64            \n",
      " 7   passenger_count    10000 non-null  int64              \n",
      "dtypes: datetime64[ns, UTC](1), datetime64[ns](1), float64(5), int64(1)\n",
      "memory usage: 625.1 KB\n"
     ]
    }
   ],
   "source": [
    "#Dtype이 object를 float,int로 변경\n",
    "train_df.info()"
   ]
  },
  {
   "cell_type": "code",
   "execution_count": 52,
   "id": "da5c747e",
   "metadata": {},
   "outputs": [
    {
     "data": {
      "text/plain": [
       "key                  0\n",
       "fare_amount          0\n",
       "pickup_datetime      0\n",
       "pickup_longitude     0\n",
       "pickup_latitude      0\n",
       "dropoff_longitude    0\n",
       "dropoff_latitude     0\n",
       "passenger_count      0\n",
       "dtype: int64"
      ]
     },
     "execution_count": 52,
     "metadata": {},
     "output_type": "execute_result"
    }
   ],
   "source": [
    "train_df.isnull().sum()"
   ]
  },
  {
   "cell_type": "code",
   "execution_count": null,
   "id": "20b5470c",
   "metadata": {},
   "outputs": [],
   "source": [
    "#하버 사인 (haversine)  공식\n",
    "pip install haversine"
   ]
  },
  {
   "cell_type": "code",
   "execution_count": 53,
   "id": "157cce0f",
   "metadata": {},
   "outputs": [
    {
     "data": {
      "text/plain": [
       "count    10000.000000\n",
       "mean         9.766464\n",
       "std          7.641671\n",
       "min          2.500000\n",
       "25%          5.700000\n",
       "50%          7.700000\n",
       "75%         10.900000\n",
       "max        146.900000\n",
       "Name: fare_amount, dtype: float64"
      ]
     },
     "execution_count": 53,
     "metadata": {},
     "output_type": "execute_result"
    }
   ],
   "source": [
    "train_df['fare_amount'].describe()"
   ]
  },
  {
   "cell_type": "code",
   "execution_count": 54,
   "id": "df6fedb3",
   "metadata": {},
   "outputs": [],
   "source": [
    "train_df.drop(train_df[train_df['pickup_longitude'] == 0].index, axis=0, inplace = True)\n",
    "train_df.drop(train_df[train_df['pickup_latitude'] == 0].index, axis=0, inplace = True)\n",
    "train_df.drop(train_df[train_df['dropoff_longitude'] == 0].index, axis=0, inplace = True)\n",
    "train_df.drop(train_df[train_df['dropoff_latitude'] == 0].index, axis=0, inplace = True)\n",
    "train_df.drop(train_df[train_df['passenger_count'] == 208].index, axis=0, inplace = True)\n",
    "train_df.drop(train_df[train_df['passenger_count'] > 5].index, axis=0, inplace = True)\n",
    "train_df.drop(train_df[train_df['passenger_count'] == 0].index, axis=0, inplace = True)"
   ]
  },
  {
   "cell_type": "code",
   "execution_count": 57,
   "id": "9904c478",
   "metadata": {},
   "outputs": [
    {
     "data": {
      "text/html": [
       "<div>\n",
       "<style scoped>\n",
       "    .dataframe tbody tr th:only-of-type {\n",
       "        vertical-align: middle;\n",
       "    }\n",
       "\n",
       "    .dataframe tbody tr th {\n",
       "        vertical-align: top;\n",
       "    }\n",
       "\n",
       "    .dataframe thead th {\n",
       "        text-align: right;\n",
       "    }\n",
       "</style>\n",
       "<table border=\"1\" class=\"dataframe\">\n",
       "  <thead>\n",
       "    <tr style=\"text-align: right;\">\n",
       "      <th></th>\n",
       "      <th>key</th>\n",
       "      <th>fare_amount</th>\n",
       "      <th>pickup_datetime</th>\n",
       "      <th>pickup_longitude</th>\n",
       "      <th>pickup_latitude</th>\n",
       "      <th>dropoff_longitude</th>\n",
       "      <th>dropoff_latitude</th>\n",
       "      <th>passenger_count</th>\n",
       "    </tr>\n",
       "  </thead>\n",
       "  <tbody>\n",
       "    <tr>\n",
       "      <th>0</th>\n",
       "      <td>2009-02-27 13:31:21.000000300</td>\n",
       "      <td>16.5</td>\n",
       "      <td>2009-02-27 13:31:21+00:00</td>\n",
       "      <td>-73.974938</td>\n",
       "      <td>40.762091</td>\n",
       "      <td>-74.003309</td>\n",
       "      <td>40.706195</td>\n",
       "      <td>2</td>\n",
       "    </tr>\n",
       "    <tr>\n",
       "      <th>1</th>\n",
       "      <td>2009-02-13 16:54:52.000000600</td>\n",
       "      <td>6.7</td>\n",
       "      <td>2009-02-13 16:54:52+00:00</td>\n",
       "      <td>-73.959669</td>\n",
       "      <td>40.779718</td>\n",
       "      <td>-73.976259</td>\n",
       "      <td>40.788413</td>\n",
       "      <td>1</td>\n",
       "    </tr>\n",
       "  </tbody>\n",
       "</table>\n",
       "</div>"
      ],
      "text/plain": [
       "                            key  fare_amount           pickup_datetime  \\\n",
       "0 2009-02-27 13:31:21.000000300         16.5 2009-02-27 13:31:21+00:00   \n",
       "1 2009-02-13 16:54:52.000000600          6.7 2009-02-13 16:54:52+00:00   \n",
       "\n",
       "   pickup_longitude  pickup_latitude  dropoff_longitude  dropoff_latitude  \\\n",
       "0        -73.974938        40.762091         -74.003309         40.706195   \n",
       "1        -73.959669        40.779718         -73.976259         40.788413   \n",
       "\n",
       "   passenger_count  \n",
       "0                2  \n",
       "1                1  "
      ]
     },
     "execution_count": 57,
     "metadata": {},
     "output_type": "execute_result"
    }
   ],
   "source": [
    "train_df.head(2)"
   ]
  },
  {
   "cell_type": "code",
   "execution_count": 59,
   "id": "d66bfae1",
   "metadata": {},
   "outputs": [],
   "source": [
    "train_df.drop(['key'], axis=1,inplace=True)"
   ]
  },
  {
   "cell_type": "code",
   "execution_count": 60,
   "id": "f21653b4",
   "metadata": {},
   "outputs": [],
   "source": [
    "train_df.drop(['pickup_datetime'], axis=1,inplace=True)"
   ]
  },
  {
   "cell_type": "code",
   "execution_count": 61,
   "id": "71b644d8",
   "metadata": {},
   "outputs": [
    {
     "data": {
      "text/html": [
       "<div>\n",
       "<style scoped>\n",
       "    .dataframe tbody tr th:only-of-type {\n",
       "        vertical-align: middle;\n",
       "    }\n",
       "\n",
       "    .dataframe tbody tr th {\n",
       "        vertical-align: top;\n",
       "    }\n",
       "\n",
       "    .dataframe thead th {\n",
       "        text-align: right;\n",
       "    }\n",
       "</style>\n",
       "<table border=\"1\" class=\"dataframe\">\n",
       "  <thead>\n",
       "    <tr style=\"text-align: right;\">\n",
       "      <th></th>\n",
       "      <th>fare_amount</th>\n",
       "      <th>pickup_longitude</th>\n",
       "      <th>pickup_latitude</th>\n",
       "      <th>dropoff_longitude</th>\n",
       "      <th>dropoff_latitude</th>\n",
       "      <th>passenger_count</th>\n",
       "    </tr>\n",
       "  </thead>\n",
       "  <tbody>\n",
       "    <tr>\n",
       "      <th>0</th>\n",
       "      <td>16.5</td>\n",
       "      <td>-73.974938</td>\n",
       "      <td>40.762091</td>\n",
       "      <td>-74.003309</td>\n",
       "      <td>40.706195</td>\n",
       "      <td>2</td>\n",
       "    </tr>\n",
       "    <tr>\n",
       "      <th>1</th>\n",
       "      <td>6.7</td>\n",
       "      <td>-73.959669</td>\n",
       "      <td>40.779718</td>\n",
       "      <td>-73.976259</td>\n",
       "      <td>40.788413</td>\n",
       "      <td>1</td>\n",
       "    </tr>\n",
       "  </tbody>\n",
       "</table>\n",
       "</div>"
      ],
      "text/plain": [
       "   fare_amount  pickup_longitude  pickup_latitude  dropoff_longitude  \\\n",
       "0         16.5        -73.974938        40.762091         -74.003309   \n",
       "1          6.7        -73.959669        40.779718         -73.976259   \n",
       "\n",
       "   dropoff_latitude  passenger_count  \n",
       "0         40.706195                2  \n",
       "1         40.788413                1  "
      ]
     },
     "execution_count": 61,
     "metadata": {},
     "output_type": "execute_result"
    }
   ],
   "source": [
    "train_df.head(2)"
   ]
  },
  {
   "cell_type": "code",
   "execution_count": 63,
   "id": "e6379a0d",
   "metadata": {},
   "outputs": [],
   "source": [
    "train_df.dropna(inplace=True)\n",
    "\n",
    "train_df.drop(train_df.index[(train_df.pickup_longitude < -75) | \n",
    "           (train_df.pickup_longitude > -72) | \n",
    "           (train_df.pickup_latitude < 40) | \n",
    "           (train_df.pickup_latitude > 42)],inplace=True)\n",
    "train_df.drop(train_df.index[(train_df.dropoff_longitude < -75) | \n",
    "           (train_df.dropoff_longitude > -72) | \n",
    "           (train_df.dropoff_latitude < 40) | \n",
    "           (train_df.dropoff_latitude > 42)],inplace=True)"
   ]
  },
  {
   "cell_type": "code",
   "execution_count": null,
   "id": "2648e5c3",
   "metadata": {},
   "outputs": [],
   "source": [
    "train_df.head()"
   ]
  },
  {
   "cell_type": "code",
   "execution_count": null,
   "id": "6a0d8638",
   "metadata": {},
   "outputs": [],
   "source": [
    "# test_df.drop(['key'], axis=1,inplace=True)"
   ]
  },
  {
   "cell_type": "code",
   "execution_count": null,
   "id": "9964f49f",
   "metadata": {},
   "outputs": [],
   "source": [
    "# test_df.head()"
   ]
  },
  {
   "cell_type": "code",
   "execution_count": null,
   "id": "1f28ed71",
   "metadata": {},
   "outputs": [],
   "source": [
    "# test_df.dropna(inplace=True)\n",
    "\n",
    "# test_df.drop(test_df.index[(test_df.pickup_longitude < -75) | \n",
    "#            (test_df.pickup_longitude > -72) | \n",
    "#            (test_df.pickup_latitude < 40) | \n",
    "#            (test_df.pickup_latitude > 42)],inplace=True)\n",
    "# test_df.drop(test_df.index[(test_df.dropoff_longitude < -75) | \n",
    "#            (test_df.dropoff_longitude > -72) | \n",
    "#            (test_df.dropoff_latitude < 40) | \n",
    "#            (test_df.dropoff_latitude > 42)],inplace=True)"
   ]
  },
  {
   "cell_type": "code",
   "execution_count": null,
   "id": "4e20702d",
   "metadata": {},
   "outputs": [],
   "source": [
    "# test_df.head()"
   ]
  },
  {
   "cell_type": "code",
   "execution_count": null,
   "id": "c017d4de",
   "metadata": {},
   "outputs": [],
   "source": [
    "# test_df.drop(['pickup_datetime'], axis=1,inplace=True)"
   ]
  },
  {
   "cell_type": "code",
   "execution_count": null,
   "id": "70861f3a",
   "metadata": {},
   "outputs": [],
   "source": [
    "# df.to_csv('s3://team07-data/SPARK-ETL/pyspark_ETL.csv', index=False)\n",
    "train_df.to_csv('', index=False)\n",
    "# test_df.to_csv('', index-False)"
   ]
  }
 ],
 "metadata": {
  "kernelspec": {
   "display_name": "Python 3 (ipykernel)",
   "language": "python",
   "name": "python3"
  },
  "language_info": {
   "codemirror_mode": {
    "name": "ipython",
    "version": 3
   },
   "file_extension": ".py",
   "mimetype": "text/x-python",
   "name": "python",
   "nbconvert_exporter": "python",
   "pygments_lexer": "ipython3",
   "version": "3.8.10"
  }
 },
 "nbformat": 4,
 "nbformat_minor": 5
}
